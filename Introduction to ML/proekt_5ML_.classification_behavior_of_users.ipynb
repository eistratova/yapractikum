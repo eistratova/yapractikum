{
 "cells": [
  {
   "cell_type": "markdown",
   "metadata": {},
   "source": [
    "Привет, меня зовут Люман. Сегодня я проверю твой проект.\n",
    "\n",
    "Комментарии будут в <font color='green'>зеленой</font>, <font color='blue'>синей</font> или <font color='red'>красной</font> рамках:\n",
    "\n",
    "<div class=\"alert alert-block alert-success\">\n",
    "<b>Успех:</b> Если все сделано отлично\n",
    "</div>\n",
    "\n",
    "<div class=\"alert alert-block alert-info\">\n",
    "<b>Совет: </b> Если можно немного улучшить\n",
    "</div>\n",
    "\n",
    "<div class=\"alert alert-block alert-danger\">\n",
    "<b>Ошибка:</b> Если требуются исправления. Работа не может быть принята с красными комментариями.\n",
    "</div>\n",
    "\n",
    "### <font color='orange'>Общее впечатление</font>\n",
    "* Большое спасибо за проделанную работу, видно, что приложено много усилий!\n",
    "* Понравилось подробное составление выводов, однако хотелось бы их наблюдать на каждом шаге.\n",
    "* Я оставил некоторые советы, надеюсь они будут тебе полезны.\n",
    "* Поправь пожалуйста ошибку с неверными моделями, и метриками для задачи классификации. И обрати внимание пожалуйста на дублирование кода, которые ты делаешь при тестировании модели с определнными параметрами.\n",
    "* Поправь эти недочеты, и проект будет зачтен. Я уверен у тебя это легко получится!\n"
   ]
  },
  {
   "cell_type": "markdown",
   "metadata": {},
   "source": [
    "### <font color='orange'>Общее впечатление[2]</font>\n",
    "* Спасибо за то, что прислала работу и поправила все недочеты!\n",
    "* Видно что ты  очень старалась. У тебя получилось выполнить верно все шаги.\n",
    "* Ты достигла хорошего качества на тесте!\n",
    "* Твой проект принимается. Удачи в дальнейшем!"
   ]
  },
  {
   "cell_type": "markdown",
   "metadata": {},
   "source": [
    "# Рекомендация тарифов"
   ]
  },
  {
   "cell_type": "markdown",
   "metadata": {},
   "source": [
    "Оператор мобильной связи «Мегалайн» выяснил: многие клиенты пользуются архивными тарифами. Они хотят построить систему, способную проанализировать поведение клиентов и предложить пользователям новый тариф: «Смарт» или «Ультра».\n",
    "В нашем распоряжении данные о поведении клиентов, которые уже перешли на эти тарифы. Нужно построить модель для задачи классификации, которая выберет подходящий тариф. \n",
    "\n",
    "Каждый объект в наборе данных — это информация о поведении одного пользователя за месяц. Известно:\n",
    "сalls — количество звонков,\n",
    "minutes — суммарная длительность звонков в минутах,\n",
    "messages — количество sms-сообщений,\n",
    "mb_used — израсходованный интернет-трафик в Мб,\n",
    "is_ultra — каким тарифом пользовался в течение месяца («Ультра» — 1, «Смарт» — 0).\n",
    "\n",
    "Необходимо построить модель с максимально большим значением *accuracy*. "
   ]
  },
  {
   "cell_type": "markdown",
   "metadata": {},
   "source": [
    "## 1. Откройте и изучите файл"
   ]
  },
  {
   "cell_type": "code",
   "execution_count": 1,
   "metadata": {},
   "outputs": [],
   "source": [
    "import pandas as pd\n",
    "import numpy as np\n",
    "\n",
    "import warnings\n",
    "warnings.filterwarnings(\"ignore\")\n",
    "\n",
    "from sklearn.metrics import accuracy_score\n",
    "from sklearn.tree import DecisionTreeRegressor\n",
    "from sklearn.tree import DecisionTreeClassifier\n",
    "\n",
    "from sklearn.linear_model import LogisticRegression\n",
    "from sklearn.ensemble import RandomForestClassifier\n",
    "from sklearn.datasets import make_classification\n",
    "\n",
    "from sklearn.model_selection import train_test_split\n",
    "from sklearn.metrics import mean_squared_error\n",
    "from sklearn.dummy import DummyClassifier\n"
   ]
  },
  {
   "cell_type": "markdown",
   "metadata": {},
   "source": [
    "\n",
    "<div class=\"alert alert-block alert-success\">\n",
    "<b>Успех:</b> Молодец, что коллекционируешь импорты в первой ячейке, отдельный + за то что обрабатываешь warnings.\n",
    "</div>\n"
   ]
  },
  {
   "cell_type": "code",
   "execution_count": 2,
   "metadata": {},
   "outputs": [
    {
     "name": "stdout",
     "output_type": "stream",
     "text": [
      "<class 'pandas.core.frame.DataFrame'>\n",
      "RangeIndex: 3214 entries, 0 to 3213\n",
      "Data columns (total 5 columns):\n",
      "calls       3214 non-null float64\n",
      "minutes     3214 non-null float64\n",
      "messages    3214 non-null float64\n",
      "mb_used     3214 non-null float64\n",
      "is_ultra    3214 non-null int64\n",
      "dtypes: float64(4), int64(1)\n",
      "memory usage: 125.7 KB\n"
     ]
    },
    {
     "data": {
      "text/html": [
       "<div>\n",
       "<style scoped>\n",
       "    .dataframe tbody tr th:only-of-type {\n",
       "        vertical-align: middle;\n",
       "    }\n",
       "\n",
       "    .dataframe tbody tr th {\n",
       "        vertical-align: top;\n",
       "    }\n",
       "\n",
       "    .dataframe thead th {\n",
       "        text-align: right;\n",
       "    }\n",
       "</style>\n",
       "<table border=\"1\" class=\"dataframe\">\n",
       "  <thead>\n",
       "    <tr style=\"text-align: right;\">\n",
       "      <th></th>\n",
       "      <th>calls</th>\n",
       "      <th>minutes</th>\n",
       "      <th>messages</th>\n",
       "      <th>mb_used</th>\n",
       "      <th>is_ultra</th>\n",
       "    </tr>\n",
       "  </thead>\n",
       "  <tbody>\n",
       "    <tr>\n",
       "      <td>0</td>\n",
       "      <td>40.0</td>\n",
       "      <td>311.90</td>\n",
       "      <td>83.0</td>\n",
       "      <td>19915.42</td>\n",
       "      <td>0</td>\n",
       "    </tr>\n",
       "    <tr>\n",
       "      <td>1</td>\n",
       "      <td>85.0</td>\n",
       "      <td>516.75</td>\n",
       "      <td>56.0</td>\n",
       "      <td>22696.96</td>\n",
       "      <td>0</td>\n",
       "    </tr>\n",
       "    <tr>\n",
       "      <td>2</td>\n",
       "      <td>77.0</td>\n",
       "      <td>467.66</td>\n",
       "      <td>86.0</td>\n",
       "      <td>21060.45</td>\n",
       "      <td>0</td>\n",
       "    </tr>\n",
       "    <tr>\n",
       "      <td>3</td>\n",
       "      <td>106.0</td>\n",
       "      <td>745.53</td>\n",
       "      <td>81.0</td>\n",
       "      <td>8437.39</td>\n",
       "      <td>1</td>\n",
       "    </tr>\n",
       "    <tr>\n",
       "      <td>4</td>\n",
       "      <td>66.0</td>\n",
       "      <td>418.74</td>\n",
       "      <td>1.0</td>\n",
       "      <td>14502.75</td>\n",
       "      <td>0</td>\n",
       "    </tr>\n",
       "  </tbody>\n",
       "</table>\n",
       "</div>"
      ],
      "text/plain": [
       "   calls  minutes  messages   mb_used  is_ultra\n",
       "0   40.0   311.90      83.0  19915.42         0\n",
       "1   85.0   516.75      56.0  22696.96         0\n",
       "2   77.0   467.66      86.0  21060.45         0\n",
       "3  106.0   745.53      81.0   8437.39         1\n",
       "4   66.0   418.74       1.0  14502.75         0"
      ]
     },
     "execution_count": 2,
     "metadata": {},
     "output_type": "execute_result"
    }
   ],
   "source": [
    "behavior = pd.read_csv('/datasets/users_behavior.csv')\n",
    "behavior.info()\n",
    "behavior.head()"
   ]
  },
  {
   "cell_type": "markdown",
   "metadata": {},
   "source": [
    "Получили обычный дата фрейм без пропусков и нулевых значений. Целевой признак - is_ultra: 0 - тариф Смарт, 1 - тариф ультра. \n",
    "Далее выделяем признаки - features и целевой признак - target."
   ]
  },
  {
   "cell_type": "code",
   "execution_count": 3,
   "metadata": {},
   "outputs": [],
   "source": [
    "features = behavior.drop(['is_ultra'], axis=1)\n",
    "target = behavior['is_ultra']"
   ]
  },
  {
   "cell_type": "code",
   "execution_count": 4,
   "metadata": {
    "scrolled": true
   },
   "outputs": [
    {
     "name": "stdout",
     "output_type": "stream",
     "text": [
      "      calls  minutes  messages   mb_used\n",
      "0      40.0   311.90      83.0  19915.42\n",
      "1      85.0   516.75      56.0  22696.96\n",
      "2      77.0   467.66      86.0  21060.45\n",
      "3     106.0   745.53      81.0   8437.39\n",
      "4      66.0   418.74       1.0  14502.75\n",
      "...     ...      ...       ...       ...\n",
      "3209  122.0   910.98      20.0  35124.90\n",
      "3210   25.0   190.36       0.0   3275.61\n",
      "3211   97.0   634.44      70.0  13974.06\n",
      "3212   64.0   462.32      90.0  31239.78\n",
      "3213   80.0   566.09       6.0  29480.52\n",
      "\n",
      "[3214 rows x 4 columns]\n",
      "0       0\n",
      "1       0\n",
      "2       0\n",
      "3       1\n",
      "4       0\n",
      "       ..\n",
      "3209    1\n",
      "3210    0\n",
      "3211    0\n",
      "3212    0\n",
      "3213    1\n",
      "Name: is_ultra, Length: 3214, dtype: int64\n"
     ]
    }
   ],
   "source": [
    "print(features)\n",
    "print(target)"
   ]
  },
  {
   "cell_type": "code",
   "execution_count": 5,
   "metadata": {},
   "outputs": [
    {
     "name": "stdout",
     "output_type": "stream",
     "text": [
      "3214\n"
     ]
    }
   ],
   "source": [
    "print(len(features))"
   ]
  },
  {
   "cell_type": "markdown",
   "metadata": {},
   "source": [
    "<div class=\"alert alert-block alert-success\">\n",
    "<b>Успех:</b> Первый шаг сделан хорошо, все требуемые методы использованы!\n",
    "</div>"
   ]
  },
  {
   "cell_type": "markdown",
   "metadata": {},
   "source": [
    "<div class=\"alert alert-block alert-info\">\n",
    "<b>Совет: </b> Хотелось бы видеть побольше выводов по проделанным шагам.\n",
    "</div>"
   ]
  },
  {
   "cell_type": "markdown",
   "metadata": {},
   "source": [
    "## 2. Разбейте данные на выборки"
   ]
  },
  {
   "cell_type": "code",
   "execution_count": 6,
   "metadata": {},
   "outputs": [],
   "source": [
    "# Делим выборку на обучащую и валидационную\n",
    "features_train, features_valid, target_train, target_valid = train_test_split(\n",
    "    features, target, test_size=0.40, random_state=12345) "
   ]
  },
  {
   "cell_type": "markdown",
   "metadata": {},
   "source": [
    "Сначала смотрим на получившиеся выборки"
   ]
  },
  {
   "cell_type": "code",
   "execution_count": 7,
   "metadata": {},
   "outputs": [
    {
     "data": {
      "text/html": [
       "<div>\n",
       "<style scoped>\n",
       "    .dataframe tbody tr th:only-of-type {\n",
       "        vertical-align: middle;\n",
       "    }\n",
       "\n",
       "    .dataframe tbody tr th {\n",
       "        vertical-align: top;\n",
       "    }\n",
       "\n",
       "    .dataframe thead th {\n",
       "        text-align: right;\n",
       "    }\n",
       "</style>\n",
       "<table border=\"1\" class=\"dataframe\">\n",
       "  <thead>\n",
       "    <tr style=\"text-align: right;\">\n",
       "      <th></th>\n",
       "      <th>calls</th>\n",
       "      <th>minutes</th>\n",
       "      <th>messages</th>\n",
       "      <th>mb_used</th>\n",
       "    </tr>\n",
       "  </thead>\n",
       "  <tbody>\n",
       "    <tr>\n",
       "      <td>count</td>\n",
       "      <td>1928.000000</td>\n",
       "      <td>1928.000000</td>\n",
       "      <td>1928.000000</td>\n",
       "      <td>1928.000000</td>\n",
       "    </tr>\n",
       "    <tr>\n",
       "      <td>mean</td>\n",
       "      <td>62.960581</td>\n",
       "      <td>436.494959</td>\n",
       "      <td>39.213693</td>\n",
       "      <td>17007.872889</td>\n",
       "    </tr>\n",
       "    <tr>\n",
       "      <td>std</td>\n",
       "      <td>32.881705</td>\n",
       "      <td>232.469903</td>\n",
       "      <td>36.686684</td>\n",
       "      <td>7497.741728</td>\n",
       "    </tr>\n",
       "    <tr>\n",
       "      <td>min</td>\n",
       "      <td>0.000000</td>\n",
       "      <td>0.000000</td>\n",
       "      <td>0.000000</td>\n",
       "      <td>0.000000</td>\n",
       "    </tr>\n",
       "    <tr>\n",
       "      <td>25%</td>\n",
       "      <td>41.000000</td>\n",
       "      <td>275.525000</td>\n",
       "      <td>10.000000</td>\n",
       "      <td>12497.390000</td>\n",
       "    </tr>\n",
       "    <tr>\n",
       "      <td>50%</td>\n",
       "      <td>62.000000</td>\n",
       "      <td>427.935000</td>\n",
       "      <td>31.000000</td>\n",
       "      <td>16663.300000</td>\n",
       "    </tr>\n",
       "    <tr>\n",
       "      <td>75%</td>\n",
       "      <td>82.000000</td>\n",
       "      <td>563.802500</td>\n",
       "      <td>58.000000</td>\n",
       "      <td>21304.777500</td>\n",
       "    </tr>\n",
       "    <tr>\n",
       "      <td>max</td>\n",
       "      <td>198.000000</td>\n",
       "      <td>1390.220000</td>\n",
       "      <td>201.000000</td>\n",
       "      <td>44296.860000</td>\n",
       "    </tr>\n",
       "  </tbody>\n",
       "</table>\n",
       "</div>"
      ],
      "text/plain": [
       "             calls      minutes     messages       mb_used\n",
       "count  1928.000000  1928.000000  1928.000000   1928.000000\n",
       "mean     62.960581   436.494959    39.213693  17007.872889\n",
       "std      32.881705   232.469903    36.686684   7497.741728\n",
       "min       0.000000     0.000000     0.000000      0.000000\n",
       "25%      41.000000   275.525000    10.000000  12497.390000\n",
       "50%      62.000000   427.935000    31.000000  16663.300000\n",
       "75%      82.000000   563.802500    58.000000  21304.777500\n",
       "max     198.000000  1390.220000   201.000000  44296.860000"
      ]
     },
     "execution_count": 7,
     "metadata": {},
     "output_type": "execute_result"
    }
   ],
   "source": [
    "features_train.describe()"
   ]
  },
  {
   "cell_type": "code",
   "execution_count": 8,
   "metadata": {},
   "outputs": [
    {
     "data": {
      "text/plain": [
       "count    1928.000000\n",
       "mean        0.307573\n",
       "std         0.461608\n",
       "min         0.000000\n",
       "25%         0.000000\n",
       "50%         0.000000\n",
       "75%         1.000000\n",
       "max         1.000000\n",
       "Name: is_ultra, dtype: float64"
      ]
     },
     "execution_count": 8,
     "metadata": {},
     "output_type": "execute_result"
    }
   ],
   "source": [
    "target_train.describe()"
   ]
  },
  {
   "cell_type": "code",
   "execution_count": 9,
   "metadata": {},
   "outputs": [],
   "source": [
    "# Делим на тестовую и валидационную\n",
    "# В дальнейших проектах от ревьюера было замечание, что мы должны делить валидационную выборку пополам, т е test_size= 0,5 должен быть в данном случае). ПРОВЕРИТЬ!!! 4.04.22\n",
    "features_test, features_valid_1, target_test, target_valid_1 = train_test_split(\n",
    "    features_valid,target_valid, test_size=0.20, random_state=12345) "
   ]
  },
  {
   "cell_type": "code",
   "execution_count": 10,
   "metadata": {},
   "outputs": [
    {
     "data": {
      "text/html": [
       "<div>\n",
       "<style scoped>\n",
       "    .dataframe tbody tr th:only-of-type {\n",
       "        vertical-align: middle;\n",
       "    }\n",
       "\n",
       "    .dataframe tbody tr th {\n",
       "        vertical-align: top;\n",
       "    }\n",
       "\n",
       "    .dataframe thead th {\n",
       "        text-align: right;\n",
       "    }\n",
       "</style>\n",
       "<table border=\"1\" class=\"dataframe\">\n",
       "  <thead>\n",
       "    <tr style=\"text-align: right;\">\n",
       "      <th></th>\n",
       "      <th>calls</th>\n",
       "      <th>minutes</th>\n",
       "      <th>messages</th>\n",
       "      <th>mb_used</th>\n",
       "    </tr>\n",
       "  </thead>\n",
       "  <tbody>\n",
       "    <tr>\n",
       "      <td>count</td>\n",
       "      <td>1028.000000</td>\n",
       "      <td>1028.000000</td>\n",
       "      <td>1028.000000</td>\n",
       "      <td>1028.000000</td>\n",
       "    </tr>\n",
       "    <tr>\n",
       "      <td>mean</td>\n",
       "      <td>63.113813</td>\n",
       "      <td>440.795282</td>\n",
       "      <td>38.077821</td>\n",
       "      <td>17460.767685</td>\n",
       "    </tr>\n",
       "    <tr>\n",
       "      <td>std</td>\n",
       "      <td>33.373337</td>\n",
       "      <td>234.756958</td>\n",
       "      <td>36.234707</td>\n",
       "      <td>7648.775880</td>\n",
       "    </tr>\n",
       "    <tr>\n",
       "      <td>min</td>\n",
       "      <td>0.000000</td>\n",
       "      <td>0.000000</td>\n",
       "      <td>0.000000</td>\n",
       "      <td>0.000000</td>\n",
       "    </tr>\n",
       "    <tr>\n",
       "      <td>25%</td>\n",
       "      <td>39.000000</td>\n",
       "      <td>275.890000</td>\n",
       "      <td>9.000000</td>\n",
       "      <td>12472.822500</td>\n",
       "    </tr>\n",
       "    <tr>\n",
       "      <td>50%</td>\n",
       "      <td>62.000000</td>\n",
       "      <td>439.975000</td>\n",
       "      <td>29.500000</td>\n",
       "      <td>17212.355000</td>\n",
       "    </tr>\n",
       "    <tr>\n",
       "      <td>75%</td>\n",
       "      <td>83.000000</td>\n",
       "      <td>587.722500</td>\n",
       "      <td>57.000000</td>\n",
       "      <td>21445.547500</td>\n",
       "    </tr>\n",
       "    <tr>\n",
       "      <td>max</td>\n",
       "      <td>244.000000</td>\n",
       "      <td>1632.060000</td>\n",
       "      <td>224.000000</td>\n",
       "      <td>49745.730000</td>\n",
       "    </tr>\n",
       "  </tbody>\n",
       "</table>\n",
       "</div>"
      ],
      "text/plain": [
       "             calls      minutes     messages       mb_used\n",
       "count  1028.000000  1028.000000  1028.000000   1028.000000\n",
       "mean     63.113813   440.795282    38.077821  17460.767685\n",
       "std      33.373337   234.756958    36.234707   7648.775880\n",
       "min       0.000000     0.000000     0.000000      0.000000\n",
       "25%      39.000000   275.890000     9.000000  12472.822500\n",
       "50%      62.000000   439.975000    29.500000  17212.355000\n",
       "75%      83.000000   587.722500    57.000000  21445.547500\n",
       "max     244.000000  1632.060000   224.000000  49745.730000"
      ]
     },
     "execution_count": 10,
     "metadata": {},
     "output_type": "execute_result"
    }
   ],
   "source": [
    "features_test.describe()"
   ]
  },
  {
   "cell_type": "code",
   "execution_count": 11,
   "metadata": {},
   "outputs": [
    {
     "data": {
      "text/html": [
       "<div>\n",
       "<style scoped>\n",
       "    .dataframe tbody tr th:only-of-type {\n",
       "        vertical-align: middle;\n",
       "    }\n",
       "\n",
       "    .dataframe tbody tr th {\n",
       "        vertical-align: top;\n",
       "    }\n",
       "\n",
       "    .dataframe thead th {\n",
       "        text-align: right;\n",
       "    }\n",
       "</style>\n",
       "<table border=\"1\" class=\"dataframe\">\n",
       "  <thead>\n",
       "    <tr style=\"text-align: right;\">\n",
       "      <th></th>\n",
       "      <th>calls</th>\n",
       "      <th>minutes</th>\n",
       "      <th>messages</th>\n",
       "      <th>mb_used</th>\n",
       "    </tr>\n",
       "  </thead>\n",
       "  <tbody>\n",
       "    <tr>\n",
       "      <td>count</td>\n",
       "      <td>258.000000</td>\n",
       "      <td>258.000000</td>\n",
       "      <td>258.000000</td>\n",
       "      <td>258.000000</td>\n",
       "    </tr>\n",
       "    <tr>\n",
       "      <td>mean</td>\n",
       "      <td>63.325581</td>\n",
       "      <td>440.710116</td>\n",
       "      <td>32.124031</td>\n",
       "      <td>17692.308527</td>\n",
       "    </tr>\n",
       "    <tr>\n",
       "      <td>std</td>\n",
       "      <td>35.390245</td>\n",
       "      <td>249.798173</td>\n",
       "      <td>30.872780</td>\n",
       "      <td>7779.168727</td>\n",
       "    </tr>\n",
       "    <tr>\n",
       "      <td>min</td>\n",
       "      <td>0.000000</td>\n",
       "      <td>0.000000</td>\n",
       "      <td>0.000000</td>\n",
       "      <td>0.000000</td>\n",
       "    </tr>\n",
       "    <tr>\n",
       "      <td>25%</td>\n",
       "      <td>38.250000</td>\n",
       "      <td>272.497500</td>\n",
       "      <td>7.250000</td>\n",
       "      <td>12482.505000</td>\n",
       "    </tr>\n",
       "    <tr>\n",
       "      <td>50%</td>\n",
       "      <td>60.000000</td>\n",
       "      <td>412.010000</td>\n",
       "      <td>23.000000</td>\n",
       "      <td>17851.720000</td>\n",
       "    </tr>\n",
       "    <tr>\n",
       "      <td>75%</td>\n",
       "      <td>81.750000</td>\n",
       "      <td>575.792500</td>\n",
       "      <td>49.500000</td>\n",
       "      <td>21913.810000</td>\n",
       "    </tr>\n",
       "    <tr>\n",
       "      <td>max</td>\n",
       "      <td>203.000000</td>\n",
       "      <td>1566.450000</td>\n",
       "      <td>142.000000</td>\n",
       "      <td>45180.750000</td>\n",
       "    </tr>\n",
       "  </tbody>\n",
       "</table>\n",
       "</div>"
      ],
      "text/plain": [
       "            calls      minutes    messages       mb_used\n",
       "count  258.000000   258.000000  258.000000    258.000000\n",
       "mean    63.325581   440.710116   32.124031  17692.308527\n",
       "std     35.390245   249.798173   30.872780   7779.168727\n",
       "min      0.000000     0.000000    0.000000      0.000000\n",
       "25%     38.250000   272.497500    7.250000  12482.505000\n",
       "50%     60.000000   412.010000   23.000000  17851.720000\n",
       "75%     81.750000   575.792500   49.500000  21913.810000\n",
       "max    203.000000  1566.450000  142.000000  45180.750000"
      ]
     },
     "execution_count": 11,
     "metadata": {},
     "output_type": "execute_result"
    }
   ],
   "source": [
    "features_valid_1.describe()"
   ]
  },
  {
   "cell_type": "code",
   "execution_count": 12,
   "metadata": {},
   "outputs": [
    {
     "data": {
      "text/plain": [
       "count    1028.000000\n",
       "mean        0.303502\n",
       "std         0.459994\n",
       "min         0.000000\n",
       "25%         0.000000\n",
       "50%         0.000000\n",
       "75%         1.000000\n",
       "max         1.000000\n",
       "Name: is_ultra, dtype: float64"
      ]
     },
     "execution_count": 12,
     "metadata": {},
     "output_type": "execute_result"
    }
   ],
   "source": [
    "target_test.describe()"
   ]
  },
  {
   "cell_type": "code",
   "execution_count": 13,
   "metadata": {},
   "outputs": [
    {
     "data": {
      "text/plain": [
       "count    258.000000\n",
       "mean       0.310078\n",
       "std        0.463424\n",
       "min        0.000000\n",
       "25%        0.000000\n",
       "50%        0.000000\n",
       "75%        1.000000\n",
       "max        1.000000\n",
       "Name: is_ultra, dtype: float64"
      ]
     },
     "execution_count": 13,
     "metadata": {},
     "output_type": "execute_result"
    }
   ],
   "source": [
    "target_valid_1.describe()"
   ]
  },
  {
   "cell_type": "markdown",
   "metadata": {},
   "source": [
    "Каких-то странных показателей, не похожих на реальные не видно."
   ]
  },
  {
   "cell_type": "markdown",
   "metadata": {},
   "source": [
    "<div class=\"alert alert-block alert-success\">\n",
    "<b>Успех:</b> Разбиение сделано абсолютно верно\n",
    "</div>"
   ]
  },
  {
   "cell_type": "markdown",
   "metadata": {},
   "source": [
    "<div class=\"alert alert-block alert-info\">\n",
    "<b>Совет: </b> Хорошим тоном является выводить размеры выборок после разбиений, это может быть очень полезным для предотвращения ошибок - ВОЗМОЖНО Я НЕПРАВИЛЬНО ПОНЯЛА ЧТО НАДО СДЕЛАТЬ-ПРИМЕНИЛА МЕТОД  describe.\n",
    "</div>"
   ]
  },
  {
   "cell_type": "markdown",
   "metadata": {},
   "source": [
    "<div class=\"alert alert-block alert-success\">\n",
    "<b>Успех[2]:</b> Describe тоже сойдет, но достаточно использовать метод shape.\n",
    "</div>"
   ]
  },
  {
   "cell_type": "markdown",
   "metadata": {},
   "source": [
    "## 3. Исследуйте модели"
   ]
  },
  {
   "cell_type": "markdown",
   "metadata": {},
   "source": [
    "Перед нами стоит задача классификации - необходимо определить наиболее подходящий тариф.\n",
    "При построении моделей для решения задач классификации используют следующие модели:\n",
    "\"DecisionTreeClassifier\", \"RandomForestClassifier\" и \"LogisticRegression\"."
   ]
  },
  {
   "cell_type": "code",
   "execution_count": 14,
   "metadata": {},
   "outputs": [
    {
     "data": {
      "text/plain": [
       "DecisionTreeClassifier(class_weight=None, criterion='gini', max_depth=None,\n",
       "                       max_features=None, max_leaf_nodes=None,\n",
       "                       min_impurity_decrease=0.0, min_impurity_split=None,\n",
       "                       min_samples_leaf=1, min_samples_split=2,\n",
       "                       min_weight_fraction_leaf=0.0, presort=False,\n",
       "                       random_state=12345, splitter='best')"
      ]
     },
     "execution_count": 14,
     "metadata": {},
     "output_type": "execute_result"
    }
   ],
   "source": [
    "# Исследуем модель Дерево решений\n",
    "\n",
    "model = DecisionTreeClassifier(random_state=12345)\n",
    "\n",
    "model.fit(features, target)"
   ]
  },
  {
   "cell_type": "code",
   "execution_count": 15,
   "metadata": {},
   "outputs": [
    {
     "name": "stdout",
     "output_type": "stream",
     "text": [
      "Accuracy наилучшей модели на валидационной выборке: 0.8062015503875969\n"
     ]
    }
   ],
   "source": [
    "# DecisionTreeClassifier\n",
    "best_model = None\n",
    "best_result = 0\n",
    "for depth in range(1, 6):\n",
    "    model = DecisionTreeClassifier(random_state=12345, max_depth=depth)\n",
    "    model.fit(features_train, target_train)\n",
    "    predictions_valid_1 = model.predict(features_valid_1)\n",
    "    result = accuracy_score(target_valid_1, predictions_valid_1)\n",
    "    if result > best_result:\n",
    "        best_model = model\n",
    "        best_result = result\n",
    "print(\"Accuracy наилучшей модели на валидационной выборке:\", best_result)    \n",
    "    "
   ]
  },
  {
   "cell_type": "markdown",
   "metadata": {},
   "source": [
    "Вывод: accuracy_score (точность модели) на валидационной выборке, полученной на модели обученной на обучающей выборке, составляет 80,6%."
   ]
  },
  {
   "cell_type": "code",
   "execution_count": 16,
   "metadata": {},
   "outputs": [
    {
     "name": "stdout",
     "output_type": "stream",
     "text": [
      "Accuracy наилучшей модели на валидационной выборке 0.7790697674418605\n"
     ]
    }
   ],
   "source": [
    "#Случайный лес\n",
    "best_model = None\n",
    "best_result = 0\n",
    "for est in range(1, 11):\n",
    "    model = RandomForestClassifier(random_state=12345, n_estimators=est) \n",
    "    model.fit(features_train, target_train) # обучаем модель на тренировочной выборке\n",
    "    result = model.score(features_valid_1, target_valid_1) \n",
    "    if result > best_result:\n",
    "        best_model = model\n",
    "        best_result = result\n",
    "print('Accuracy наилучшей модели на валидационной выборке', best_result)"
   ]
  },
  {
   "cell_type": "code",
   "execution_count": 17,
   "metadata": {},
   "outputs": [
    {
     "name": "stdout",
     "output_type": "stream",
     "text": [
      "Accuracy модели логистической регрессии на валидационной выборке: 0.7441860465116279\n"
     ]
    }
   ],
   "source": [
    "# Логистическая регрессия\n",
    "model = LogisticRegression(random_state=12345)\n",
    "model.fit(features_train, target_train) \n",
    "result = model.score(features_valid_1, target_valid_1) \n",
    "\n",
    "print(\"Accuracy модели логистической регрессии на валидационной выборке:\", result)"
   ]
  },
  {
   "cell_type": "markdown",
   "metadata": {},
   "source": [
    "Вывод: Наиболее высокие показатели Accuracy на валидационной выборке показала модель DecisionTreeClassifier = 0.8062, наименьший показатель наилучшей модели показала модель RandomForestClassifier = 0.7015, модель  Логистическая регрессия показала значение для наилучшей модели 0.7441.\n",
    "Accuracy - показывает количество правильно проставленных меток класса (истинно положительных и истинно отрицательных) от общего количества данных. \n",
    "Для исследования качества разных моделей, меняя гиперпараметры, будем использовать модель показавшую наибольшее значение Accuracy - DecisionTreeClassifier.\n"
   ]
  },
  {
   "cell_type": "markdown",
   "metadata": {},
   "source": [
    "## Исследуйте качество разных моделей, меняя гиперпараметры"
   ]
  },
  {
   "cell_type": "markdown",
   "metadata": {},
   "source": [
    "Наиболее важным гиперпараметром является величина max_depth.Изменим данный гиперпараметр в цикле путем перебора, параметр random_state должен оставаться постоянным."
   ]
  },
  {
   "cell_type": "code",
   "execution_count": 18,
   "metadata": {},
   "outputs": [
    {
     "name": "stdout",
     "output_type": "stream",
     "text": [
      "max_depth = 1 : 0.748062015503876\n",
      "max_depth = 2 : 0.7945736434108527\n",
      "max_depth = 3 : 0.8023255813953488\n",
      "max_depth = 4 : 0.7868217054263565\n",
      "max_depth = 5 : 0.8062015503875969\n",
      "max_depth = 6 : 0.7790697674418605\n",
      "max_depth = 7 : 0.7984496124031008\n",
      "max_depth = 8 : 0.7868217054263565\n",
      "max_depth = 9 : 0.7790697674418605\n"
     ]
    }
   ],
   "source": [
    "# модель DecisionTreeClassifier смена гиперпараметра max_depth\n",
    "for depth in range(1, 10):\n",
    "    model = DecisionTreeClassifier(random_state=12345, max_depth=depth)\n",
    "\n",
    "    model.fit(features_train, target_train)\n",
    "\n",
    "    predictions_valid_1 = model.predict(features_valid_1)\n",
    "  \n",
    "    print(\"max_depth =\", depth, \": \", end='')\n",
    "    print(accuracy_score(target_valid_1, predictions_valid_1))\n",
    "    "
   ]
  },
  {
   "cell_type": "markdown",
   "metadata": {},
   "source": [
    "Вывод по исследованию гиперпараметров модели \"DecisionTreeClassifier\" :\n",
    "При переборе гиперпараметра max_depth модели  \"DecisionTreeClassifier\" в цикле от 1 до 9 максимальная точность модели была получена при максимальной глубине дерева = 5. Далее точность модели начала снижаться."
   ]
  },
  {
   "cell_type": "code",
   "execution_count": 19,
   "metadata": {},
   "outputs": [
    {
     "name": "stdout",
     "output_type": "stream",
     "text": [
      "Accuracy наилучшей модели на валидационной выборке 0.8255813953488372 максимальная глубина 9 Количество деревьев 1\n"
     ]
    }
   ],
   "source": [
    "#Случайный лес-смена гиперпараметра n_estimators и max_depth\n",
    "best_model = None\n",
    "best_result = 0\n",
    "for est in range(1, 11):\n",
    "    for depth in range (1, 10):\n",
    "        model = RandomForestClassifier(random_state=12345, n_estimators=est, max_depth=depth) \n",
    "        model.fit(features_train, target_train) # обучаем модель на тренировочной выборке\n",
    "        result = model.score(features_valid_1, target_valid_1) \n",
    "        if result > best_result:\n",
    "            best_model = model\n",
    "            best_result = result\n",
    "            best_est = est\n",
    "            best_depth = depth\n",
    "             \n",
    "print('Accuracy наилучшей модели на валидационной выборке',  best_result, 'максимальная глубина', best_depth, 'Количество деревьев', best_est)"
   ]
  },
  {
   "cell_type": "markdown",
   "metadata": {},
   "source": [
    "Вывод по исследованию гиперпараметров модели \"RandomForestClassifier\":\n",
    "При переборе гиперпараметров n_estimators модели \"RandomForestClassifier\" в цикле от 1 до 10 и параметра  max_depth от 1-10, максимальная точность модели была получена при количестве деревьев 1 и максимальной глубине дерева 9. Accuracy = 0.8255813953488372."
   ]
  },
  {
   "cell_type": "code",
   "execution_count": 20,
   "metadata": {},
   "outputs": [
    {
     "name": "stdout",
     "output_type": "stream",
     "text": [
      "Accuracy 0.8178294573643411\n"
     ]
    }
   ],
   "source": [
    "# применим гиперпараметр Кол-во деревьев 5(больше идеального) и глубина 10 (больше идеального)\n",
    "model = RandomForestClassifier(random_state=12345, n_estimators=5, max_depth=10) \n",
    "model.fit(features_train, target_train) \n",
    "result = model.score(features_valid_1, target_valid_1) \n",
    "print('Accuracy', result)"
   ]
  },
  {
   "cell_type": "code",
   "execution_count": 21,
   "metadata": {},
   "outputs": [
    {
     "name": "stdout",
     "output_type": "stream",
     "text": [
      "Accuracy 0.8023255813953488\n"
     ]
    }
   ],
   "source": [
    "# применим гиперпараметр Кол-во деревьев 3(больше идеального) и глубина 5 (меньше идеального)\n",
    "model = RandomForestClassifier(random_state=12345, n_estimators=3, max_depth=5) \n",
    "model.fit(features_train, target_train) \n",
    "result = model.score(features_valid_1, target_valid_1) \n",
    "print('Accuracy', result)"
   ]
  },
  {
   "cell_type": "markdown",
   "metadata": {},
   "source": [
    "Вывод:\n",
    "при изменении параметров Количество деревьев и максимальнеая глубина (как в сторону увеличения так и в сторону уменьшения) была выявлена тенденция к снижению точности нашей модели.\n"
   ]
  },
  {
   "cell_type": "markdown",
   "metadata": {},
   "source": [
    "<div class=\"alert alert-block alert-danger\">\n",
    "<b>Ошибка устраненная:</b> Хочу отметить некоторые недочеты: <br>\n",
    "    1) Ты в двойном цикле используешь одну и ту же модель 10 раз, вместо 1 раза. (Циклы не нужны если ты хочешь проверить конкретные параметры для модели) <br>\n",
    "    2) Ты уже проделывал эти вычисления перебором параметров, ты мог выводить с помощью print эти значения. И тебе не нужно было бы еще раз проделывать тоже самое.\n",
    "</div>"
   ]
  },
  {
   "cell_type": "markdown",
   "metadata": {},
   "source": [
    "<div class=\"alert alert-block alert-danger\">\n",
    "<b>Ошибка устраненная:</b> RMSE метрика для задач регресии, использовать ее для задачи классификации не совсем корректно. <br>\n",
    "Также выбраны неверно модели для тестирования. <br> Нужно использовать  RandomForestClassifier вместо RandomForestRegressor, DecisionTreeClassifier вместо DecisionTreeRegressor и т.п .<br> Наверное тебя спутала LogisticRegression, которая является моделью для решения задач классификации. \n",
    "    \n",
    "[Откуда у нее такое название можно прочитать здесь](https://habr.com/ru/company/io/blog/265007/)\n",
    "</div>"
   ]
  },
  {
   "cell_type": "markdown",
   "metadata": {},
   "source": [
    "<div class=\"alert alert-block alert-info\">\n",
    "<b>Совет: </b> Хорошо было бы посчитать, хотя бы для одной модели  больше 2 гиперпараметров.\n",
    "    \n",
    "[Узнать какие параметры принимает модель можно в официальной документации.\n",
    "    ](https://scikit-learn.org/stable/modules/generated/sklearn.ensemble.RandomForestClassifier.html)\n",
    "</div>"
   ]
  },
  {
   "cell_type": "markdown",
   "metadata": {},
   "source": [
    "<div class=\"alert alert-block alert-success\">\n",
    "<b>Успех[2]:</b> Молодец! Ты поправила все недочеты! Отлично, что ты использовала для подбора параметров только валидационную выборку.\n",
    "</div>"
   ]
  },
  {
   "cell_type": "markdown",
   "metadata": {},
   "source": [
    "## 4. Проверьте модель на тестовой выборке"
   ]
  },
  {
   "cell_type": "code",
   "execution_count": 22,
   "metadata": {},
   "outputs": [
    {
     "data": {
      "text/plain": [
       "DecisionTreeClassifier(class_weight=None, criterion='gini', max_depth=None,\n",
       "                       max_features=None, max_leaf_nodes=None,\n",
       "                       min_impurity_decrease=0.0, min_impurity_split=None,\n",
       "                       min_samples_leaf=1, min_samples_split=2,\n",
       "                       min_weight_fraction_leaf=0.0, presort=False,\n",
       "                       random_state=12345, splitter='best')"
      ]
     },
     "execution_count": 22,
     "metadata": {},
     "output_type": "execute_result"
    }
   ],
   "source": [
    "# Проверяем модель \"Дерево решений\"\n",
    "model = DecisionTreeClassifier(random_state=12345)\n",
    "\n",
    "model.fit(features_test, target_test)"
   ]
  },
  {
   "cell_type": "code",
   "execution_count": 23,
   "metadata": {},
   "outputs": [
    {
     "name": "stdout",
     "output_type": "stream",
     "text": [
      "Accuracy наилучшей модели на тестовой выборке: 0.7772373540856031\n"
     ]
    }
   ],
   "source": [
    "# DecisionTreeClassifier\n",
    "best_model = None\n",
    "best_result = 0\n",
    "for depth in range(1, 6):\n",
    "    model = DecisionTreeClassifier(random_state=12345, max_depth=depth)\n",
    "    model.fit(features_train, target_train)\n",
    "    predictions_test = model.predict(features_test)\n",
    "    result = accuracy_score(target_test, predictions_test)\n",
    "    if result > best_result:\n",
    "        best_model = model\n",
    "        best_result = result\n",
    "print(\"Accuracy наилучшей модели на тестовой выборке:\", best_result)    \n",
    "    "
   ]
  },
  {
   "cell_type": "markdown",
   "metadata": {},
   "source": [
    "Accuracy наилучшей модели на тестовой выборке ниже, чем на валидационной (0,806). Это может говорить о том, что в качестве тестовой выборки лучше взять валиадационную выборку(нежели тестовую), при подборе рабочей модели лучше ориентироваться на ее данные. Также, размер нашей выборки достаточно маленький, это также может влиять на точность."
   ]
  },
  {
   "cell_type": "code",
   "execution_count": 24,
   "metadata": {},
   "outputs": [
    {
     "name": "stdout",
     "output_type": "stream",
     "text": [
      "Accuracy наилучшей модели на тестовой выборке 0.7859922178988327\n"
     ]
    }
   ],
   "source": [
    "#Случайный лес\n",
    "best_model = None\n",
    "best_result = 0\n",
    "for est in range(1, 11):\n",
    "    model = RandomForestClassifier(random_state=12345, n_estimators=est) \n",
    "    model.fit(features_train, target_train) # обучаем модель на тренировочной выборке\n",
    "    result = model.score(features_test, target_test) \n",
    "    if result > best_result:\n",
    "        best_model = model\n",
    "        best_result = result\n",
    "print('Accuracy наилучшей модели на тестовой выборке', best_result)"
   ]
  },
  {
   "cell_type": "markdown",
   "metadata": {},
   "source": [
    "Вывод: Для модели \"Случайный лес\"  Accuracy наилучшей модели на тестовой выборке 0.7859 больше, чем Accuracy наилучшей модели на валидационной выборке = 0.7790.Это говорит о более высокой точности предсказания модели на тестовой выборке."
   ]
  },
  {
   "cell_type": "code",
   "execution_count": 25,
   "metadata": {},
   "outputs": [
    {
     "name": "stdout",
     "output_type": "stream",
     "text": [
      "Accuracy наилучшей модели логистической регрессии на тестовой выборке: 0.7509727626459144\n"
     ]
    }
   ],
   "source": [
    "# Логистическая регрессия\n",
    "model = LogisticRegression(random_state=12345)\n",
    "model.fit(features_train, target_train) \n",
    "result = model.score(features_test, target_test) \n",
    "\n",
    "print(\"Accuracy наилучшей модели логистической регрессии на тестовой выборке:\", result)"
   ]
  },
  {
   "cell_type": "markdown",
   "metadata": {},
   "source": [
    "Вывод: Для модели \"Логистическая регрессия\"  Accuracy наилучшей модели на тестовой выборке 0.7509 больше, чем Accuracy наилучшей модели на валидационной выборке = 0.7441. Это говорит о более высокой точности предсказания модели на тестовой выборке."
   ]
  },
  {
   "cell_type": "code",
   "execution_count": 26,
   "metadata": {},
   "outputs": [
    {
     "name": "stdout",
     "output_type": "stream",
     "text": [
      "Accuracy наилучшей модели на тестовой выборке \"DecisionTreeClassifier\": 0.7772373540856031\n",
      "Accuracy наилучшей модели на тестовой выборке \"RandomForestClassifier: 0.7859922178988327\n",
      "Accuracy наилучшей модели логистической регрессии на тестовой выборке: 0.7509727626459144\n"
     ]
    }
   ],
   "source": [
    "print('Accuracy наилучшей модели на тестовой выборке \"DecisionTreeClassifier\":',  0.7772373540856031)  \n",
    "print('Accuracy наилучшей модели на тестовой выборке \"RandomForestClassifier:', 0.7859922178988327)\n",
    "print(\"Accuracy наилучшей модели логистической регрессии на тестовой выборке:\", 0.7509727626459144)"
   ]
  },
  {
   "cell_type": "markdown",
   "metadata": {},
   "source": [
    "Вывод:\n",
    "Анализ моделей, обученных на одной тренировочной выборке и протестированных на одной и тойже тестовой выборке, показал, что точность двух моделей \"Случайный лес\" и \"Логистическая регрессия\" немного больше при проверке их на тестовой выборке, в то время как точность наилучшей модели \"Дерево решений\" выше на валидационной выборке.\n",
    "Наибольшаяточность модели на тестовой выборке показала модель RandomForestClassifier - 0.7859922178988327.\n"
   ]
  },
  {
   "cell_type": "markdown",
   "metadata": {},
   "source": [
    "<div class=\"alert alert-block alert-success\">\n",
    "<b>Успех[2]:</b> Молодец, тебе удалось достичь хорошего качества!\n",
    "</div>"
   ]
  },
  {
   "cell_type": "markdown",
   "metadata": {},
   "source": [
    "## 5. (бонус) Проверьте модели на адекватность"
   ]
  },
  {
   "cell_type": "markdown",
   "metadata": {},
   "source": [
    "Для проверки модели на адекватность, проверим ее с помощью DummyClassifier. Этот «классификатор» прогнозирует значения, например, наиболее частотные. И если алгоритм нашей модели лучше, чем рандомный ответ, то модель прошла проверку на адекватность."
   ]
  },
  {
   "cell_type": "code",
   "execution_count": 27,
   "metadata": {},
   "outputs": [
    {
     "name": "stdout",
     "output_type": "stream",
     "text": [
      "[0 0 0 ... 0 0 0]\n"
     ]
    },
    {
     "data": {
      "text/plain": [
       "0.6964980544747081"
      ]
     },
     "execution_count": 27,
     "metadata": {},
     "output_type": "execute_result"
    }
   ],
   "source": [
    "dummy_clf = DummyClassifier(strategy=\"most_frequent\")\n",
    "dummy_clf.fit(features_train, target_train)\n",
    "DummyClassifier(strategy='most_frequent')\n",
    "\n",
    "print(dummy_clf.predict(features_test))\n",
    "\n",
    "dummy_clf.score(features_test, target_test)"
   ]
  },
  {
   "cell_type": "markdown",
   "metadata": {},
   "source": [
    "Результат DummyClassifier = 0.6964, в то время как Accuracy наилучшей модели на тестовой выборке: 0.7859922178988327. Получается, что точнсть нашей модели выше,следовательно модель прошла оценку на адекватность."
   ]
  },
  {
   "cell_type": "markdown",
   "metadata": {},
   "source": [
    "<div class=\"alert alert-block alert-success\">\n",
    "<b>Успех:</b> Проверка на адекватность выполнена корректно.\n",
    "</div> "
   ]
  },
  {
   "cell_type": "markdown",
   "metadata": {},
   "source": [
    "## Чек-лист готовности проекта"
   ]
  },
  {
   "cell_type": "markdown",
   "metadata": {},
   "source": [
    "Поставьте 'x' в выполненных пунктах. Далее нажмите Shift+Enter."
   ]
  },
  {
   "cell_type": "markdown",
   "metadata": {},
   "source": [
    "- [x] Jupyter Notebook открыт\n",
    "- [x] Весь код исполняется без ошибок\n",
    "- [x] Ячейки с кодом расположены в порядке исполнения\n",
    "- [x] Выполнено задание 1: данные загружены и изучены\n",
    "- [x] Выполнено задание 2: данные разбиты на три выборки\n",
    "- [x] Выполнено задание 3: проведено исследование моделей\n",
    "    - [x] Рассмотрено больше одной модели\n",
    "    - [x] Рассмотрено хотя бы 3 значения гипепараметров для какой-нибудь модели\n",
    "    - [x] Написаны выводы по результатам исследования\n",
    "- [x] Выполнено задание 3: Проведено тестирование\n",
    "- [x] Удалось достичь accuracy не меньше 0.75\n"
   ]
  },
  {
   "cell_type": "code",
   "execution_count": null,
   "metadata": {},
   "outputs": [],
   "source": []
  }
 ],
 "metadata": {
  "kernelspec": {
   "display_name": "Python 3",
   "language": "python",
   "name": "python3"
  },
  "language_info": {
   "codemirror_mode": {
    "name": "ipython",
    "version": 3
   },
   "file_extension": ".py",
   "mimetype": "text/x-python",
   "name": "python",
   "nbconvert_exporter": "python",
   "pygments_lexer": "ipython3",
   "version": "3.8.5"
  }
 },
 "nbformat": 4,
 "nbformat_minor": 2
}

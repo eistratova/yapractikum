{
 "cells": [
  {
   "cell_type": "markdown",
   "metadata": {},
   "source": [
    "# КОММЕНТАРИЙ ОТ РЕВЬЮВЕРА\n",
    "Привет, Катерина!)\n",
    "\n",
    "Меня зовут Обидин Андрей, я проверял твой проект. Благодарю тебя за то, что вовремя всё сдала и хорошо поработала!) У тебя получился очень классный проект, есть всего несколько замечаний и рекомендаций на доработку. После я всё смогу принять, жду!) В конце есть чек-лист.\n",
    "\n",
    "Далее по ходу работы ты сможешь встретить мои комментарии, они будут отмечены разными цветами:\n",
    "\n",
    "<div class=\"alert alert-block alert-success\">\n",
    "Похвала и возможности развития\n",
    "</div>\n",
    "<div class=\"alert alert-block alert-warning\">\n",
    "Некритичные замечания, но стоит обратить внимание\n",
    "</div>\n",
    "<div class=\"alert alert-block alert-danger\">\n",
    "Грубая ошибка, необходимо исправить\n",
    "</div>\n",
    "\n",
    "\n",
    "Заранее прошу не удалять мои комментарии, это важно. Если у тебя возникнут вопросы, обозначь их, я с радостью тебе помогу!)\n",
    "\n",
    "Как вариант, можешь обозначить их так:\n",
    "<div class=\"alert alert-block alert-info\">\n",
    "<b>КОММЕНТАРИЙ СТУДЕНТА:</b>\n",
    "</div>"
   ]
  },
  {
   "cell_type": "markdown",
   "metadata": {},
   "source": [
    "## Описание проекта\n",
    "\n",
    "Вы аналитик компании «Мегалайн» — федерального оператора сотовой связи. Клиентам предлагают два тарифных плана: «Смарт» и «Ультра». Чтобы скорректировать рекламный бюджет, коммерческий департамент хочет понять, какой тариф приносит больше денег.\n",
    "Нам предстоит сделать предварительный анализ тарифов на небольшой выборке клиентов. В вашем распоряжении данные 500 пользователей «Мегалайна»: кто они, откуда, каким тарифом пользуются, сколько звонков и сообщений каждый отправил за 2018 год. Нужно проанализировать поведение клиентов и сделать вывод — какой тариф лучше.\n"
   ]
  },
  {
   "cell_type": "markdown",
   "metadata": {},
   "source": [
    "<div class=\"alert alert-block alert-success\">\n",
    "<b>КОММЕНТАРИЙ РЕВЬЮВЕРА:</b> \n",
    "\n",
    "Мможешь сделать <a href=\"https://sebastianraschka.com/Articles/2014_ipython_internal_links.html\">кликабельные разделы</a>, чтобы ориентироваться в проекте было еще проще.\n",
    "\n",
    "</div>"
   ]
  },
  {
   "cell_type": "code",
   "execution_count": 1,
   "metadata": {},
   "outputs": [],
   "source": [
    "import pandas as pd\n",
    "import numpy as np\n",
    "import seaborn as sns\n",
    "import datetime\n",
    "import matplotlib.pyplot as plt\n",
    "import plotly.express as px\n",
    "import plotly.graph_objects as go\n",
    "from functools import partial\n",
    "import scipy "
   ]
  },
  {
   "cell_type": "markdown",
   "metadata": {},
   "source": [
    "## Шаг 1. Загрузка данных в нужном формате ##"
   ]
  },
  {
   "cell_type": "markdown",
   "metadata": {},
   "source": [
    "Загружаем данные и сразу проводим их корректировку (при необходимости)"
   ]
  },
  {
   "cell_type": "markdown",
   "metadata": {},
   "source": [
    "# Звонки##"
   ]
  },
  {
   "cell_type": "code",
   "execution_count": 3,
   "metadata": {},
   "outputs": [
    {
     "ename": "FileNotFoundError",
     "evalue": "[Errno 2] File /datasets/calls.csv does not exist: '/datasets/calls.csv'",
     "output_type": "error",
     "traceback": [
      "\u001b[0;31m---------------------------------------------------------------------------\u001b[0m",
      "\u001b[0;31mFileNotFoundError\u001b[0m                         Traceback (most recent call last)",
      "\u001b[0;32m<ipython-input-3-765a45ced2db>\u001b[0m in \u001b[0;36m<module>\u001b[0;34m\u001b[0m\n\u001b[0;32m----> 1\u001b[0;31m \u001b[0mcalls\u001b[0m \u001b[0;34m=\u001b[0m \u001b[0mpd\u001b[0m\u001b[0;34m.\u001b[0m\u001b[0mread_csv\u001b[0m\u001b[0;34m(\u001b[0m\u001b[0;34m'/datasets/calls.csv'\u001b[0m\u001b[0;34m,\u001b[0m  \u001b[0mindex_col\u001b[0m\u001b[0;34m=\u001b[0m \u001b[0;36m0\u001b[0m\u001b[0;34m)\u001b[0m\u001b[0;34m\u001b[0m\u001b[0;34m\u001b[0m\u001b[0m\n\u001b[0m\u001b[1;32m      2\u001b[0m \u001b[0mcalls\u001b[0m\u001b[0;34m.\u001b[0m\u001b[0minfo\u001b[0m\u001b[0;34m(\u001b[0m\u001b[0;34m)\u001b[0m\u001b[0;34m\u001b[0m\u001b[0;34m\u001b[0m\u001b[0m\n\u001b[1;32m      3\u001b[0m \u001b[0mcalls\u001b[0m\u001b[0;34m\u001b[0m\u001b[0;34m\u001b[0m\u001b[0m\n",
      "\u001b[0;32m/opt/anaconda3/lib/python3.8/site-packages/pandas/io/parsers.py\u001b[0m in \u001b[0;36mparser_f\u001b[0;34m(filepath_or_buffer, sep, delimiter, header, names, index_col, usecols, squeeze, prefix, mangle_dupe_cols, dtype, engine, converters, true_values, false_values, skipinitialspace, skiprows, skipfooter, nrows, na_values, keep_default_na, na_filter, verbose, skip_blank_lines, parse_dates, infer_datetime_format, keep_date_col, date_parser, dayfirst, cache_dates, iterator, chunksize, compression, thousands, decimal, lineterminator, quotechar, quoting, doublequote, escapechar, comment, encoding, dialect, error_bad_lines, warn_bad_lines, delim_whitespace, low_memory, memory_map, float_precision)\u001b[0m\n\u001b[1;32m    674\u001b[0m         )\n\u001b[1;32m    675\u001b[0m \u001b[0;34m\u001b[0m\u001b[0m\n\u001b[0;32m--> 676\u001b[0;31m         \u001b[0;32mreturn\u001b[0m \u001b[0m_read\u001b[0m\u001b[0;34m(\u001b[0m\u001b[0mfilepath_or_buffer\u001b[0m\u001b[0;34m,\u001b[0m \u001b[0mkwds\u001b[0m\u001b[0;34m)\u001b[0m\u001b[0;34m\u001b[0m\u001b[0;34m\u001b[0m\u001b[0m\n\u001b[0m\u001b[1;32m    677\u001b[0m \u001b[0;34m\u001b[0m\u001b[0m\n\u001b[1;32m    678\u001b[0m     \u001b[0mparser_f\u001b[0m\u001b[0;34m.\u001b[0m\u001b[0m__name__\u001b[0m \u001b[0;34m=\u001b[0m \u001b[0mname\u001b[0m\u001b[0;34m\u001b[0m\u001b[0;34m\u001b[0m\u001b[0m\n",
      "\u001b[0;32m/opt/anaconda3/lib/python3.8/site-packages/pandas/io/parsers.py\u001b[0m in \u001b[0;36m_read\u001b[0;34m(filepath_or_buffer, kwds)\u001b[0m\n\u001b[1;32m    446\u001b[0m \u001b[0;34m\u001b[0m\u001b[0m\n\u001b[1;32m    447\u001b[0m     \u001b[0;31m# Create the parser.\u001b[0m\u001b[0;34m\u001b[0m\u001b[0;34m\u001b[0m\u001b[0;34m\u001b[0m\u001b[0m\n\u001b[0;32m--> 448\u001b[0;31m     \u001b[0mparser\u001b[0m \u001b[0;34m=\u001b[0m \u001b[0mTextFileReader\u001b[0m\u001b[0;34m(\u001b[0m\u001b[0mfp_or_buf\u001b[0m\u001b[0;34m,\u001b[0m \u001b[0;34m**\u001b[0m\u001b[0mkwds\u001b[0m\u001b[0;34m)\u001b[0m\u001b[0;34m\u001b[0m\u001b[0;34m\u001b[0m\u001b[0m\n\u001b[0m\u001b[1;32m    449\u001b[0m \u001b[0;34m\u001b[0m\u001b[0m\n\u001b[1;32m    450\u001b[0m     \u001b[0;32mif\u001b[0m \u001b[0mchunksize\u001b[0m \u001b[0;32mor\u001b[0m \u001b[0miterator\u001b[0m\u001b[0;34m:\u001b[0m\u001b[0;34m\u001b[0m\u001b[0;34m\u001b[0m\u001b[0m\n",
      "\u001b[0;32m/opt/anaconda3/lib/python3.8/site-packages/pandas/io/parsers.py\u001b[0m in \u001b[0;36m__init__\u001b[0;34m(self, f, engine, **kwds)\u001b[0m\n\u001b[1;32m    878\u001b[0m             \u001b[0mself\u001b[0m\u001b[0;34m.\u001b[0m\u001b[0moptions\u001b[0m\u001b[0;34m[\u001b[0m\u001b[0;34m\"has_index_names\"\u001b[0m\u001b[0;34m]\u001b[0m \u001b[0;34m=\u001b[0m \u001b[0mkwds\u001b[0m\u001b[0;34m[\u001b[0m\u001b[0;34m\"has_index_names\"\u001b[0m\u001b[0;34m]\u001b[0m\u001b[0;34m\u001b[0m\u001b[0;34m\u001b[0m\u001b[0m\n\u001b[1;32m    879\u001b[0m \u001b[0;34m\u001b[0m\u001b[0m\n\u001b[0;32m--> 880\u001b[0;31m         \u001b[0mself\u001b[0m\u001b[0;34m.\u001b[0m\u001b[0m_make_engine\u001b[0m\u001b[0;34m(\u001b[0m\u001b[0mself\u001b[0m\u001b[0;34m.\u001b[0m\u001b[0mengine\u001b[0m\u001b[0;34m)\u001b[0m\u001b[0;34m\u001b[0m\u001b[0;34m\u001b[0m\u001b[0m\n\u001b[0m\u001b[1;32m    881\u001b[0m \u001b[0;34m\u001b[0m\u001b[0m\n\u001b[1;32m    882\u001b[0m     \u001b[0;32mdef\u001b[0m \u001b[0mclose\u001b[0m\u001b[0;34m(\u001b[0m\u001b[0mself\u001b[0m\u001b[0;34m)\u001b[0m\u001b[0;34m:\u001b[0m\u001b[0;34m\u001b[0m\u001b[0;34m\u001b[0m\u001b[0m\n",
      "\u001b[0;32m/opt/anaconda3/lib/python3.8/site-packages/pandas/io/parsers.py\u001b[0m in \u001b[0;36m_make_engine\u001b[0;34m(self, engine)\u001b[0m\n\u001b[1;32m   1112\u001b[0m     \u001b[0;32mdef\u001b[0m \u001b[0m_make_engine\u001b[0m\u001b[0;34m(\u001b[0m\u001b[0mself\u001b[0m\u001b[0;34m,\u001b[0m \u001b[0mengine\u001b[0m\u001b[0;34m=\u001b[0m\u001b[0;34m\"c\"\u001b[0m\u001b[0;34m)\u001b[0m\u001b[0;34m:\u001b[0m\u001b[0;34m\u001b[0m\u001b[0;34m\u001b[0m\u001b[0m\n\u001b[1;32m   1113\u001b[0m         \u001b[0;32mif\u001b[0m \u001b[0mengine\u001b[0m \u001b[0;34m==\u001b[0m \u001b[0;34m\"c\"\u001b[0m\u001b[0;34m:\u001b[0m\u001b[0;34m\u001b[0m\u001b[0;34m\u001b[0m\u001b[0m\n\u001b[0;32m-> 1114\u001b[0;31m             \u001b[0mself\u001b[0m\u001b[0;34m.\u001b[0m\u001b[0m_engine\u001b[0m \u001b[0;34m=\u001b[0m \u001b[0mCParserWrapper\u001b[0m\u001b[0;34m(\u001b[0m\u001b[0mself\u001b[0m\u001b[0;34m.\u001b[0m\u001b[0mf\u001b[0m\u001b[0;34m,\u001b[0m \u001b[0;34m**\u001b[0m\u001b[0mself\u001b[0m\u001b[0;34m.\u001b[0m\u001b[0moptions\u001b[0m\u001b[0;34m)\u001b[0m\u001b[0;34m\u001b[0m\u001b[0;34m\u001b[0m\u001b[0m\n\u001b[0m\u001b[1;32m   1115\u001b[0m         \u001b[0;32melse\u001b[0m\u001b[0;34m:\u001b[0m\u001b[0;34m\u001b[0m\u001b[0;34m\u001b[0m\u001b[0m\n\u001b[1;32m   1116\u001b[0m             \u001b[0;32mif\u001b[0m \u001b[0mengine\u001b[0m \u001b[0;34m==\u001b[0m \u001b[0;34m\"python\"\u001b[0m\u001b[0;34m:\u001b[0m\u001b[0;34m\u001b[0m\u001b[0;34m\u001b[0m\u001b[0m\n",
      "\u001b[0;32m/opt/anaconda3/lib/python3.8/site-packages/pandas/io/parsers.py\u001b[0m in \u001b[0;36m__init__\u001b[0;34m(self, src, **kwds)\u001b[0m\n\u001b[1;32m   1889\u001b[0m         \u001b[0mkwds\u001b[0m\u001b[0;34m[\u001b[0m\u001b[0;34m\"usecols\"\u001b[0m\u001b[0;34m]\u001b[0m \u001b[0;34m=\u001b[0m \u001b[0mself\u001b[0m\u001b[0;34m.\u001b[0m\u001b[0musecols\u001b[0m\u001b[0;34m\u001b[0m\u001b[0;34m\u001b[0m\u001b[0m\n\u001b[1;32m   1890\u001b[0m \u001b[0;34m\u001b[0m\u001b[0m\n\u001b[0;32m-> 1891\u001b[0;31m         \u001b[0mself\u001b[0m\u001b[0;34m.\u001b[0m\u001b[0m_reader\u001b[0m \u001b[0;34m=\u001b[0m \u001b[0mparsers\u001b[0m\u001b[0;34m.\u001b[0m\u001b[0mTextReader\u001b[0m\u001b[0;34m(\u001b[0m\u001b[0msrc\u001b[0m\u001b[0;34m,\u001b[0m \u001b[0;34m**\u001b[0m\u001b[0mkwds\u001b[0m\u001b[0;34m)\u001b[0m\u001b[0;34m\u001b[0m\u001b[0;34m\u001b[0m\u001b[0m\n\u001b[0m\u001b[1;32m   1892\u001b[0m         \u001b[0mself\u001b[0m\u001b[0;34m.\u001b[0m\u001b[0munnamed_cols\u001b[0m \u001b[0;34m=\u001b[0m \u001b[0mself\u001b[0m\u001b[0;34m.\u001b[0m\u001b[0m_reader\u001b[0m\u001b[0;34m.\u001b[0m\u001b[0munnamed_cols\u001b[0m\u001b[0;34m\u001b[0m\u001b[0;34m\u001b[0m\u001b[0m\n\u001b[1;32m   1893\u001b[0m \u001b[0;34m\u001b[0m\u001b[0m\n",
      "\u001b[0;32mpandas/_libs/parsers.pyx\u001b[0m in \u001b[0;36mpandas._libs.parsers.TextReader.__cinit__\u001b[0;34m()\u001b[0m\n",
      "\u001b[0;32mpandas/_libs/parsers.pyx\u001b[0m in \u001b[0;36mpandas._libs.parsers.TextReader._setup_parser_source\u001b[0;34m()\u001b[0m\n",
      "\u001b[0;31mFileNotFoundError\u001b[0m: [Errno 2] File /datasets/calls.csv does not exist: '/datasets/calls.csv'"
     ]
    }
   ],
   "source": [
    "calls = pd.read_csv('/datasets/calls.csv',  index_col= 0)\n",
    "calls.info()\n",
    "calls"
   ]
  },
  {
   "cell_type": "code",
   "execution_count": null,
   "metadata": {},
   "outputs": [],
   "source": [
    "#считаем количество звонков\n",
    "calls.count()"
   ]
  },
  {
   "cell_type": "markdown",
   "metadata": {},
   "source": [
    "# Интернет трафик"
   ]
  },
  {
   "cell_type": "code",
   "execution_count": null,
   "metadata": {},
   "outputs": [],
   "source": [
    "internet = pd.read_csv('/datasets/internet.csv',  index_col= 0)\n",
    "internet.info()\n",
    "internet\n"
   ]
  },
  {
   "cell_type": "code",
   "execution_count": null,
   "metadata": {},
   "outputs": [],
   "source": [
    "internet = pd.read_csv('/datasets/internet.csv',  index_col = 0)\n",
    "internet.session_date = pd.to_datetime(internet.session_date)\n",
    "internet.mb_used = np.ceil(internet.mb_used).astype('Int64')\n",
    "internet.info()"
   ]
  },
  {
   "cell_type": "code",
   "execution_count": null,
   "metadata": {},
   "outputs": [],
   "source": [
    "internet.mb_used"
   ]
  },
  {
   "cell_type": "markdown",
   "metadata": {},
   "source": [
    "# Сообщения"
   ]
  },
  {
   "cell_type": "code",
   "execution_count": null,
   "metadata": {},
   "outputs": [],
   "source": [
    "messages = pd.read_csv('/datasets/messages.csv',  index_col= 0)\n",
    "messages.info()\n",
    "messages"
   ]
  },
  {
   "cell_type": "code",
   "execution_count": null,
   "metadata": {},
   "outputs": [],
   "source": [
    "messages.describe()"
   ]
  },
  {
   "cell_type": "markdown",
   "metadata": {},
   "source": [
    "# Тарифы"
   ]
  },
  {
   "cell_type": "code",
   "execution_count": null,
   "metadata": {},
   "outputs": [],
   "source": [
    "tariffs = pd.read_csv('/datasets/tariffs.csv',  index_col= 7)\n",
    "tariffs.info()\n",
    "tariffs"
   ]
  },
  {
   "cell_type": "markdown",
   "metadata": {},
   "source": [
    "## Пользователи"
   ]
  },
  {
   "cell_type": "code",
   "execution_count": null,
   "metadata": {
    "scrolled": true
   },
   "outputs": [],
   "source": [
    "users = pd.read_csv('/datasets/users.csv',  index_col= 7)\n",
    "users.info()\n",
    "users\n"
   ]
  },
  {
   "cell_type": "code",
   "execution_count": null,
   "metadata": {},
   "outputs": [],
   "source": [
    "print('Количество дубликатов:', users.duplicated().sum())"
   ]
  },
  {
   "cell_type": "code",
   "execution_count": null,
   "metadata": {},
   "outputs": [],
   "source": [
    "#возраст пользователей\n",
    "users.age.describe()"
   ]
  },
  {
   "cell_type": "code",
   "execution_count": null,
   "metadata": {},
   "outputs": [],
   "source": [
    "# города проживания\n",
    "users.city.unique()"
   ]
  },
  {
   "cell_type": "code",
   "execution_count": null,
   "metadata": {},
   "outputs": [],
   "source": [
    "users.reg_date.describe()"
   ]
  },
  {
   "cell_type": "code",
   "execution_count": null,
   "metadata": {},
   "outputs": [],
   "source": [
    "#поьзователи\n",
    "users = pd.read_csv('/datasets/users.csv',  index_col = 0)\n",
    "## сконвертируем типы дат\n",
    "users.churn_date = pd.to_datetime(users.churn_date)\n",
    "users.reg_date = pd.to_datetime(users.reg_date)\n",
    "users.info()"
   ]
  },
  {
   "cell_type": "code",
   "execution_count": null,
   "metadata": {},
   "outputs": [],
   "source": [
    "# проверяем есть ли неправильные даты регистрации\n",
    "users[users.churn_date <= users.reg_date]"
   ]
  },
  {
   "cell_type": "code",
   "execution_count": null,
   "metadata": {},
   "outputs": [],
   "source": [
    "# смотрим как пользователи присоединялись в течение года\n",
    "users.groupby([users.reg_date.dt.week, 'tariff']).size().unstack().plot(\n",
    "    kind = 'bar', figsize = (15,6), title = 'Динамика присоединения пользователей в течение года')\n",
    "plt.ylabel('users quantity')"
   ]
  },
  {
   "cell_type": "markdown",
   "metadata": {},
   "source": [
    "- Вывод\n"
   ]
  },
  {
   "cell_type": "markdown",
   "metadata": {},
   "source": [
    "Из графика видна определенная \"сезонность присоединения абонентов\", видимо проводилась рекламная компания, которой предшествовали, например какие-либо \"акции\" или введение дополнительных опций или бонусов. Также мы видим, что пользователей тарифа smart в течение года присоединялось гораздо больше, чем тарифа ultra. Ничего подозрительного не увидели."
   ]
  },
  {
   "cell_type": "markdown",
   "metadata": {},
   "source": [
    "<div class=\"alert alert-block alert-danger\">\n",
    "<b>КОММЕНТАРИЙ РЕВЬЮВЕРА:</b> \n",
    "\n",
    "Подпиши заголовок и ось У, плюс стоит делать промежуточный вывод после визуализации\n",
    "    \n",
    "</div>"
   ]
  },
  {
   "cell_type": "markdown",
   "metadata": {},
   "source": [
    "## Звонки"
   ]
  },
  {
   "cell_type": "code",
   "execution_count": null,
   "metadata": {},
   "outputs": [],
   "source": [
    "calls = pd.read_csv('/datasets/calls.csv',  index_col = 0)\n",
    "calls.call_date = pd.to_datetime(calls.call_date)\n",
    "#округляем\n",
    "calls.duration = np.ceil(calls.duration).astype('Int64')\n",
    "calls.info()"
   ]
  },
  {
   "cell_type": "code",
   "execution_count": null,
   "metadata": {},
   "outputs": [],
   "source": [
    "calls"
   ]
  },
  {
   "cell_type": "code",
   "execution_count": null,
   "metadata": {},
   "outputs": [],
   "source": [
    "print('Количество дубликатов:', calls.duplicated().sum())"
   ]
  },
  {
   "cell_type": "code",
   "execution_count": null,
   "metadata": {},
   "outputs": [],
   "source": [
    "calls.drop_duplicates().reset_index(drop=True)"
   ]
  },
  {
   "cell_type": "code",
   "execution_count": null,
   "metadata": {},
   "outputs": [],
   "source": [
    "#Продолжительность звонков\n",
    "calls.duration.describe()"
   ]
  },
  {
   "cell_type": "code",
   "execution_count": null,
   "metadata": {},
   "outputs": [],
   "source": [
    "# смотрим распределение\n",
    "calls.duration.hist(bins=38).set(ylim =(0,15000))\n",
    "plt.title('Распределение звонков')\n",
    "plt.ylabel('Количество звонков')\n",
    "plt.xlabel('Продолжительность звонков')"
   ]
  },
  {
   "cell_type": "markdown",
   "metadata": {},
   "source": [
    "Распределение похоже на нормальное, немного скошено влево. Пик приходится на звонки продолжительностью 5-8 мин. Судя по графику небольшое количество пользователей тратит на разговоры более 15 минут, 75% достаточно 11 минут разговора."
   ]
  },
  {
   "cell_type": "code",
   "execution_count": null,
   "metadata": {},
   "outputs": [],
   "source": [
    "# проверяем звонки нулевой длительности\n",
    "# строим гистограмму количество звонков в каждую неделю в разрезе \"нулевой длительности\"\n",
    "\n",
    "calls.groupby([calls.call_date.dt.week, calls.duration == 0]).size().unstack().plot(\n",
    "    kind = 'bar',grid = True, figsize =(16,4), title = 'Количество звонков нулевой длительности в неделю')\n",
    "plt.ylabel('calls quantity')"
   ]
  },
  {
   "cell_type": "markdown",
   "metadata": {},
   "source": [
    "Гистограмма количества звонков в разрезе признака \"нулевая длительность\" показывает нам, что нулевая длительность  пропорциональна ненулевым звонкам. Ничего подозрительного."
   ]
  },
  {
   "cell_type": "markdown",
   "metadata": {},
   "source": [
    "<div class=\"alert alert-block alert-danger\">\n",
    "<b>КОММЕНТАРИЙ РЕВЬЮВЕРА:</b> \n",
    "\n",
    "Подпиши заголовок и ось У\n",
    "    \n",
    "</div>"
   ]
  },
  {
   "cell_type": "markdown",
   "metadata": {},
   "source": [
    "## Трафик\n"
   ]
  },
  {
   "cell_type": "code",
   "execution_count": null,
   "metadata": {},
   "outputs": [],
   "source": [
    "internet.info()"
   ]
  },
  {
   "cell_type": "code",
   "execution_count": null,
   "metadata": {},
   "outputs": [],
   "source": [
    "print('Количество дубликатов:', internet.duplicated().sum())"
   ]
  },
  {
   "cell_type": "code",
   "execution_count": null,
   "metadata": {},
   "outputs": [],
   "source": [
    "# проверяем даты - не появились ли новые\n",
    "internet.session_date.describe()"
   ]
  },
  {
   "cell_type": "code",
   "execution_count": null,
   "metadata": {},
   "outputs": [],
   "source": [
    "#округляем\n",
    "internet.mb_used = np.ceil(internet.mb_used).astype('Int64')\n",
    "internet.info()"
   ]
  },
  {
   "cell_type": "code",
   "execution_count": null,
   "metadata": {},
   "outputs": [],
   "source": [
    "internet.mb_used"
   ]
  },
  {
   "cell_type": "code",
   "execution_count": null,
   "metadata": {},
   "outputs": [],
   "source": [
    "#смотрим объемы сессий\n",
    "internet.mb_used.describe()"
   ]
  },
  {
   "cell_type": "code",
   "execution_count": null,
   "metadata": {},
   "outputs": [],
   "source": [
    "# смоторим распределение размеров сессий\n",
    "internet.mb_used.hist(bins=100).set(ylim =(0,4000))\n",
    "plt.title('Распределение размеров интернет-сессий')\n",
    "plt.xlabel('Потребленный трафик')\n",
    "plt.ylabel('Колличество сессий')"
   ]
  },
  {
   "cell_type": "markdown",
   "metadata": {},
   "source": [
    "Вывод\n",
    "Распределение нормальное - скошено влево. Пик графика приходится на 278 мб, по графику видно, что в среднем пользователи редко тратят более 750 мб. Ничего подозрительного в данных пока нет."
   ]
  },
  {
   "cell_type": "markdown",
   "metadata": {},
   "source": [
    "<div class=\"alert alert-block alert-danger\">\n",
    "<b>КОММЕНТАРИЙ РЕВЬЮВЕРА:</b> \n",
    "\n",
    "Подпиши оси и заголовок, сделай промежуточный вывод\n",
    "    \n",
    "</div>"
   ]
  },
  {
   "cell_type": "code",
   "execution_count": null,
   "metadata": {},
   "outputs": [],
   "source": [
    "#проверяем распределение нулевых сессиий\n",
    "internet.mb_used.groupby([internet.session_date.dt.week, internet.mb_used == 0]).size().unstack().plot(\n",
    "    kind = 'bar',grid = True, title = 'Распределение нулевых сессиий', figsize =(16,4))\n",
    "plt.ylabel('quantity_0sessions')"
   ]
  },
  {
   "cell_type": "markdown",
   "metadata": {},
   "source": [
    "Вывод: количество нулевых сессий , выглядит так же как и распределение нулевых звонков. Ничего подозрительного нет. Количество нулевых сессийй пропорционально ненулевым. Они нам не помешают.\n"
   ]
  },
  {
   "cell_type": "markdown",
   "metadata": {},
   "source": []
  },
  {
   "cell_type": "markdown",
   "metadata": {},
   "source": [
    "<div class=\"alert alert-block alert-danger\">\n",
    "<b>КОММЕНТАРИЙ РЕВЬЮВЕРА:</b> \n",
    "\n",
    "Подпиши ось У и заголовок, плюс дай промежуточный вывод\n",
    "    \n",
    "</div>"
   ]
  },
  {
   "cell_type": "markdown",
   "metadata": {},
   "source": [
    "<div class=\"alert alert-block alert-danger\">\n",
    "<b>КОММЕНТАРИЙ РЕВЬЮВЕРА:</b> \n",
    "    \n",
    "Почему не округлила объем мегабайтов по аналогии с минутами?\n",
    "    \n",
    "</div>"
   ]
  },
  {
   "cell_type": "markdown",
   "metadata": {},
   "source": [
    "<div class=\"alert alert-block alert-info\">\n",
    "<b>КОММЕНТАРИЙ СТУДЕНТА:</b>\n",
    "</div> \n",
    "округление есть - в самом начале при загрузке данных \n",
    "\n",
    "int[4]\n",
    "\n",
    "internet = pd.read_csv('/datasets/internet.csv',  index_col = 0)\n",
    "internet.session_date = pd.to_datetime(internet.session_date)\n",
    "internet.mb_used = np.ceil(internet.mb_used).astype('Int64')\n",
    "internet.info()"
   ]
  },
  {
   "cell_type": "markdown",
   "metadata": {},
   "source": [
    "## Сообщения\n"
   ]
  },
  {
   "cell_type": "code",
   "execution_count": null,
   "metadata": {},
   "outputs": [],
   "source": [
    "messages.info()"
   ]
  },
  {
   "cell_type": "code",
   "execution_count": null,
   "metadata": {},
   "outputs": [],
   "source": [
    "messages.message_date = pd.to_datetime(messages.message_date)"
   ]
  },
  {
   "cell_type": "code",
   "execution_count": null,
   "metadata": {},
   "outputs": [],
   "source": [
    "print('Количество дубликатов:', messages.duplicated().sum())"
   ]
  },
  {
   "cell_type": "code",
   "execution_count": null,
   "metadata": {},
   "outputs": [],
   "source": [
    "messages.drop_duplicates().reset_index(drop=True)"
   ]
  },
  {
   "cell_type": "code",
   "execution_count": null,
   "metadata": {},
   "outputs": [],
   "source": [
    "messages.message_date.describe()"
   ]
  },
  {
   "cell_type": "code",
   "execution_count": null,
   "metadata": {},
   "outputs": [],
   "source": [
    "messages.user_id.describe()"
   ]
  },
  {
   "cell_type": "code",
   "execution_count": null,
   "metadata": {},
   "outputs": [],
   "source": [
    "messages.user_id.hist(bins=100).set(ylim =(0,4000))\n",
    "plt.title('Распределение сообщений')\n",
    "plt.xlabel('Количество абонентов')\n",
    "plt.ylabel('Колличество сообщений')"
   ]
  },
  {
   "cell_type": "markdown",
   "metadata": {},
   "source": [
    "<div class=\"alert alert-block alert-danger\">\n",
    "<b>КОММЕНТАРИЙ РЕВЬЮВЕРА:</b> \n",
    "\n",
    "Подпиши оси, заголовок\n",
    "    \n",
    "</div>"
   ]
  },
  {
   "cell_type": "markdown",
   "metadata": {},
   "source": [
    "## вывод\n"
   ]
  },
  {
   "cell_type": "markdown",
   "metadata": {},
   "source": [
    "- 1.Явных ошибок в данных нет, были дубликаты в calls и messages. Их удалили.\n",
    "- 2.Были изменены типы данных:users.churn_date и users.reg_date, internet.session_date - сконвертированы типы дат, internet_mb_used - округлен и переведен в Int.\n",
    "- 3.Пользователи подключились к тарифам в 2018 г.- видимо, это дата когда данные тарифы были \"запущены\"\n",
    "- 4.На первой неделе пользователей было совсем мало, но активность была достаточно высокая - сопоставимая с 11 неделей.\n",
    "- 5.Звонки и сессии нулевой длины это скорее всего, нетарифицируемые сессии/вызовы. На пропущенные звонки/сессии не похоже, т.к. их не может быть в разы больше выполненных. Они никак не помешают."
   ]
  },
  {
   "cell_type": "markdown",
   "metadata": {},
   "source": [
    "Проверяем, что активность входит в интервал от reg_date до churn_date. Если это не подтвердиться мы сможем сгруппировать сразу в calls, message, internet. "
   ]
  },
  {
   "cell_type": "code",
   "execution_count": null,
   "metadata": {},
   "outputs": [],
   "source": [
    "print('Звонков вне регистрации:', calls.merge(users, on='user_id').query(\n",
    "    '(call_date < reg_date) | (call_date > churn_date)').size)\n",
    "print('Сессий вне регистрации:', internet.merge(users, on='user_id').query(\n",
    "    '(session_date < reg_date) | (session_date > churn_date)').size)\n",
    "print('Сообщений вне регистрации:', messages.merge(users, on='user_id').query(\n",
    "    '(message_date < reg_date) | (message_date > churn_date)').size)\n"
   ]
  },
  {
   "cell_type": "markdown",
   "metadata": {},
   "source": [
    "<div class=\"alert alert-block alert-success\">\n",
    "<b>КОММЕНТАРИЙ РЕВЬЮВЕРА:</b> \n",
    "\n",
    "Ты хорошо осмотрела датафреймы, однако обрати внимание на мои замечания)\n",
    "\n",
    "</div>"
   ]
  },
  {
   "cell_type": "markdown",
   "metadata": {},
   "source": [
    "### Агрегируем данные"
   ]
  },
  {
   "cell_type": "code",
   "execution_count": null,
   "metadata": {},
   "outputs": [],
   "source": [
    "#дату в первое число месяца\n",
    "def mon(date):\n",
    "    return date.dt.to_period('M').dt.to_timestamp()\n",
    "# посчитаем стоимость месяца по строчке агрегатору\n",
    "def calculate (row):\n",
    "    fare = row.rub_monthly_fee\n",
    "    # минуты\n",
    "    if (row.calls_duration > row.minutes_included):\n",
    "        fare += (row.calls_duration - row.minutes_included)* row.rub_per_minute\n",
    "        #сообщения\n",
    "    if (row.messages_count > row.messages_included):\n",
    "        fare += (row.messages_count - row.messages_included)* row.rub_per_message\n",
    "        # интернет\n",
    "    if (row.internet_gb > row.mb_per_month_included / 1024):   \n",
    "        fare += (row.internet_gb - row.mb_per_month_included / 1024)* row.rub_per_gb\n",
    "    return round(fare, 2)\n",
    "\n",
    "#перечень всех интересующих месяцев,интервал задаем руками\n",
    "\n",
    "month = pd.date_range(start = datetime.date(2018, 1, 1), end = datetime.date(2018, 12, 1), freq='1MS')\n",
    "billing = (users\n",
    "    # разберем индекс\n",
    "    .reset_index()\n",
    "    # приклеиваем тарифы\n",
    "    .merge(tariffs,left_on='tariff', right_on = 'tariff_name')\n",
    "    .assign(dummy = 1)\n",
    "    .merge(pd.DataFrame({'month':month}).assign(dummy = 1))\n",
    "    #убираем месяцы до даты регистрации\n",
    "    .query('~((month < @mon(reg_date)) | (month > @mon(churn_date)))')\n",
    "    .set_index(['user_id', 'month'])\n",
    ")\n",
    "# по звонкам \n",
    "billing['calls_duration'] = calls.groupby([calls.user_id, mon(calls.call_date)]).duration.sum()\n",
    "# по сообщениям\n",
    "billing['messages_count'] = messages.groupby([messages.user_id, mon(messages.message_date)]).size()\n",
    "# по трафику\n",
    "billing['internet_gb'] = internet.groupby([internet.user_id, mon(internet.session_date)]).mb_used.sum()/1024\n",
    "\n",
    "# округляем\n",
    "billing['internet_gb'] = np.ceil(billing['internet_gb']).astype('Int64')\n",
    "billing = billing.fillna({'calls_duration' : 0, 'messages_count' : 0, 'internet_gb' : 0})\n",
    "\n",
    "# считаем денежный поток\n",
    "billing['fare'] = (billing\n",
    "    .apply(calculate, axis = 'columns')\n",
    ")\n"
   ]
  },
  {
   "cell_type": "markdown",
   "metadata": {},
   "source": [
    "<div class=\"alert alert-block alert-danger\">\n",
    "<b>КОММЕНТАРИЙ РЕВЬЮВЕРА:</b> \n",
    "\n",
    "Нужно при делении на 1024 округлить в большую сторону с помощью ceil, перед этим в изначальном датафрейме интернета мегабайты тоже округлить:\n",
    "        \n",
    "        # твой код, который нужно чуть подправить\n",
    "    \n",
    "        billing['internet_gb'] = internet.groupby([internet.user_id, mon(internet.session_date)]).mb_used.sum()/1024\n",
    "    \n",
    "</div>"
   ]
  },
  {
   "cell_type": "code",
   "execution_count": null,
   "metadata": {},
   "outputs": [],
   "source": [
    "# просматриваем несколько строчек\n",
    "billing.loc[[1025,1030]]"
   ]
  },
  {
   "cell_type": "markdown",
   "metadata": {},
   "source": [
    "<div class=\"alert alert-block alert-warning\">\n",
    "<b>КОММЕНТАРИЙ РЕВЬЮВЕРА:</b> \n",
    "\n",
    "Из датафрейма выше по признаку internet_gb мы видим, что имеются дробные части, чего не может быть, тк Мегалайн любит все округлять.\n",
    "\n",
    "Поэтому в изначальном датафрейме интернета мегабайты нужно округлить в большую сторону с помощью ceil и перевести в целочисленный тип.\n",
    "\n",
    "Полагаю выручка имеет дробную часть именно из-за всего вышеперечисленного.\n",
    "\n",
    "Выручка, объемы всех услуг никак не могут иметь дробные части, потому что у нас ведется округление, плюс клиент четко платит абонентскую плату, либо четко и целочисленно доплачивает за определенный целый объем услуг (как много слова целый хахахаха) Поэтому рекомендую все перевести в int\n",
    "</div>"
   ]
  },
  {
   "cell_type": "markdown",
   "metadata": {},
   "source": [
    "<div class=\"alert alert-block alert-danger\">\n",
    "<b>КОММЕНТАРИЙ РЕВЬЮВЕРА:</b> \n",
    "\n",
    "Перед тем, как приступать к анализу и подсчету статистик нужно очистить данные от выбросов. Как ты наверное знаешь, многие статистики, такие как среднее, и как следствие все что базируется на нем зависит от выбросов, поэтому нужно чуть почистить данные с целью повышения объективности результатов:)\n",
    "    \n",
    "Рекомендую тебе построить ящики с усами: \n",
    "    \n",
    "* по оси Х расположи тарифы, по У услуги (минуты, смс, интернет). \n",
    "\n",
    "* оцени границы выбросов для каждого тарифа по различным услугам, только помни, что у нас по Ультре очень широкие лимиты и вероятно большая часть клиентов их не расходует (разве за исключением интернета, где имеется превышение), поэтому верхней границей можно взять и лимиты, либо пользоваться другой логикой (все что дальше усов выбросы, или 1.5 межквартильного размаха). Помимо этого, не забывай, что клиент в целом может не расходовать какой-либо вид услуги, поэтому минимальное значение 0 допустимо.\n",
    "\n",
    "* убери выбросы, только помни, что для каждого тарифа они индивидуальны\n",
    "\n",
    "Посмотри как можно реализовать интерактивный ящик с усами в библиотеке Plotly:\n",
    "    \n",
    "https://plotly.com/python/box-plots/\n",
    "</div>"
   ]
  },
  {
   "cell_type": "code",
   "execution_count": null,
   "metadata": {},
   "outputs": [],
   "source": [
    "x = billing['tariff']\n",
    "\n",
    "fig = go.Figure()\n",
    "\n",
    "fig.add_trace(go.Box(\n",
    "    y=billing['internet_gb'],\n",
    "    x=x,\n",
    "    name='Трафик',\n",
    "    marker_color='#3D9970'\n",
    "))\n",
    "fig.add_trace(go.Box(\n",
    "    y=billing['calls_duration'],\n",
    "    x=x,\n",
    "    name='Звонки',\n",
    "    marker_color='#FF4136'\n",
    "))\n",
    "fig.add_trace(go.Box(\n",
    "    y=billing['messages_count'],\n",
    "    x=x,\n",
    "    name='Сообщения',\n",
    "    marker_color='#FF851B'\n",
    "))\n",
    "\n",
    "fig.update_layout(\n",
    "    yaxis_title='Количество',\n",
    "    boxmode='group'\n",
    ")\n",
    "fig.show()\n"
   ]
  },
  {
   "cell_type": "markdown",
   "metadata": {},
   "source": [
    "На графике видно,  что в звонках и тарифах у нас имеются значения, превышающие Q3, однако, выбрасывать их не стоит, т.к. это значеия:\n",
    "тариф Ультра - звонки продолжительностью 1673 мин(в тариф входит 3000 мин);\n",
    "сообщения - кол-во 224 шт.(в тарифе предусмотрено 1000 бесплатных сообщений).\n",
    "тариф Смарт - 1435 мин звонков(предусмотрено 500 мин) - перерасход в 3 р - возможно;\n",
    "сообщения 143 шт(при включенных 50 в тариф).\n",
    "Возможно, клиенты тарифа Смарт по какой-то причине все еще надеятся,что они станут меньше говорить и отправлять сообщения и по этой причине не меняют тариф.\n"
   ]
  },
  {
   "cell_type": "code",
   "execution_count": null,
   "metadata": {},
   "outputs": [],
   "source": [
    "#billing_Ultra= billing.query('tariff == \"ultra\"').query('(calls_duration>0) | (calls_duration < 3000)')"
   ]
  },
  {
   "cell_type": "code",
   "execution_count": null,
   "metadata": {},
   "outputs": [],
   "source": [
    "#billing_Ultra"
   ]
  },
  {
   "cell_type": "markdown",
   "metadata": {},
   "source": [
    "## Шаг 3. Проанализируйте данные"
   ]
  },
  {
   "cell_type": "markdown",
   "metadata": {},
   "source": [
    "Необходимо описать поведение клиентов оператора, исходя из выборки.\n",
    "кол-во мин.разговора, кол-во сообщений, объем интернет трафика требуемый пользователям каждого тарифа.\n",
    "Считаем среднее кол-во, дисперсию и отклонение стнд.\n",
    "Построим гистограммы и опишем распределения."
   ]
  },
  {
   "cell_type": "code",
   "execution_count": null,
   "metadata": {},
   "outputs": [],
   "source": [
    "#функция для построения гистограмм\n",
    "def plot_feature_histogram_full(feature, feature_name, hist_xlabel, tariff_value,\n",
    "                                feature_description, ax, tariff_name, data, bins = 30):\n",
    "    (data[data.tariff == tariff_name][feature]\n",
    "        .plot(ax = ax, kind = 'hist',alpha = 0.8, bins = bins, grid = True, label = '')\n",
    "        .set_title(f'Тариф {tariff_name}: {feature_name}')\n",
    "    )\n",
    "    ax.set_xlabel(hist_xlabel)\n",
    "    ax.set_ylabel('человек * месяц')\n",
    "    vlines = [\n",
    "        [tariff_value, 'orange', 'Включено в тариф'],\n",
    "        [feature_description.loc[tariff_name, '99%'], 'green', 'y 99% абонентов'],\n",
    "        [feature_description.loc[tariff_name, 'mean'],'pink','среднее']\n",
    "    ]\n",
    "    for l in sorted(vlines,key = lambda x: x[0]):\n",
    "        ax.axvline(l[0], color = l[1], label = l[2], lw = 3)\n",
    "    ax.legend()\n",
    "        \n",
    "# отстутствие глобальных переменных в функции -важно\n",
    "plot_feature_histogram = partial(plot_feature_histogram_full, data = billing)\n",
    "# в каком порядке обходим тарифы\n",
    "tariff_iterator = tariffs.reset_index()"
   ]
  },
  {
   "cell_type": "markdown",
   "metadata": {},
   "source": [
    "В задании треубется посчитать дисперсию,т.к. нет уточнения нужна выборочная дисперсия или несмещенная оценка будем считать, что нам нужна исправленная s^2.\n",
    "Метод DataFrame.std()pandas как раз считает стандартное отклонение s по выборке  (ddof = 1). Удовлетворимся обычным describe, дисперсию в выводе мы не увидим, но поскольку мы знаем, что оyа равна s^2,то мы ничего не теряем.\n",
    "\n",
    "В дальнейшем по поведением пользователя мы понимаем \"поведение пользователя в течение 1 месяца\". Т.е. оперируем человеко-месяцами.До техпор пока мы не начинаем считать конкретное количество людей, это адекватная замена.\n"
   ]
  },
  {
   "cell_type": "markdown",
   "metadata": {},
   "source": [
    "## Длительность звонка"
   ]
  },
  {
   "cell_type": "code",
   "execution_count": null,
   "metadata": {},
   "outputs": [],
   "source": [
    "# описательная статистика Среднее mean, стандартное отклонение = std дисперсия = std^2\n",
    "bg = billing.groupby(billing.tariff).calls_duration\n",
    "duration_desc = bg.describe(percentiles = [.01, .25, .75, .99])\n",
    "\n",
    "# дисперсия через numpy (выборочная, ddof = 0)\n",
    "duration_desc['np_var'] = [np.var(bg.get_group('smart')), np.var(bg.get_group('ultra'))]\n",
    "\n",
    "# дсиперсия через pandas(выборочная)\n",
    "duration_desc['pd_var_ddof0'] = bg.var(ddof = 0)\n",
    "\n",
    "# стандартная дисперсия --std,посчитанный describe, в квадрате \n",
    "duration_desc['std**2'] = duration_desc['std'] ** 2\n",
    "\n",
    "duration_desc              "
   ]
  },
  {
   "cell_type": "code",
   "execution_count": null,
   "metadata": {},
   "outputs": [],
   "source": [
    "# отрисовываем длительность звонков на двух графиках\n",
    "_, ax = plt.subplots(ncols = 2, nrows = 1, figsize = (20, 6))\n",
    "for i, t in tariff_iterator.iterrows():\n",
    "    plot_feature_histogram('calls_duration', 'звонков за месяц', 'минут', t.minutes_included,\n",
    "                           duration_desc, ax[i], t.tariff_name, bins=40)\n"
   ]
  },
  {
   "cell_type": "markdown",
   "metadata": {},
   "source": [
    "# Вывод по распределение количества звонков в месяц\n"
   ]
  },
  {
   "cell_type": "markdown",
   "metadata": {},
   "source": [
    "1.Половина пользователей тарифа smart помещается в тарифные 500 минут(медиана =421) и ничего не доплачивает. Половина абонентов на ultra  разговаривают на 25% больше.\n",
    "2.Для 99% пользователей тарифа smart достаточно 900 минут в месяц.Для 99 % пользователей ultra потребуется уже 1300 минут, данный тариф выбирают более общительные абоненты.\n",
    "3.Распределение у тарифа smart похоже на нормальное, чуть скошено вправо. Среднее практически совпадает с медианой.\n",
    "4.Распределение у тарифа ultra едва напоминает нормальное,дисперсия значительно выше,чем у smart. Есть второй пик в районе полного отсутствия разговоров - вероятно эти пользователи выбрали этот тариф не из-за звонков."
   ]
  },
  {
   "cell_type": "markdown",
   "metadata": {},
   "source": [
    "<div class=\"alert alert-block alert-warning\">\n",
    "<b>КОММЕНТАРИЙ РЕВЬЮВЕРА:</b> \n",
    "\n",
    "\n",
    "Распределение Смарта скошено влево (пологий хвост слева, если простыми словами), тк среднее меньше медианы, это означает, что у нас большая частотность набирается у высоких значений минут. Но сложновато заметить все эти вещи, тк отклонения совсем небольшие.\n",
    "</div>\n",
    "<div class=\"alert alert-block alert-success\">\n",
    "<b>КОММЕНТАРИЙ РЕВЬЮВЕРА:</b> \n",
    "\n",
    "В целом очень хорошие выводы по анализу минут.\n",
    "\n",
    "Что еще мы можем заметить:\n",
    "    \n",
    "* Много клиентов Смарта первышают лимиты по звонкам\n",
    "\n",
    "* Клиентам Ультры с головой хватает 3000 минут, большая часть не выговаривает даже 1000 минут\n",
    "\n",
    "* Клиенты Ультры обладают большей вариативностью поведения, нежели чем абоненты Смарта\n",
    "\n",
    "</div>"
   ]
  },
  {
   "cell_type": "markdown",
   "metadata": {},
   "source": [
    "\n"
   ]
  },
  {
   "cell_type": "code",
   "execution_count": null,
   "metadata": {},
   "outputs": [],
   "source": [
    "internet_desc = billing.groupby(billing.tariff).internet_gb.describe(percentiles = [.01, .25, .75, .99])\n",
    "internet_desc"
   ]
  },
  {
   "cell_type": "code",
   "execution_count": null,
   "metadata": {},
   "outputs": [],
   "source": [
    "# отрисовываем потребление трафика на двух графиках\n",
    "_, ax = plt.subplots(ncols = 2, nrows = 1, figsize = (20, 6))\n",
    "for i, t in tariff_iterator.iterrows():\n",
    "    plot_feature_histogram('internet_gb', 'потребление трафика', 'Гбайт', t.mb_per_month_included / 1024,\n",
    "                           internet_desc, ax[i], t.tariff_name,bins=30)"
   ]
  },
  {
   "cell_type": "markdown",
   "metadata": {},
   "source": [
    "# Вывод по распределению трафика"
   ]
  },
  {
   "cell_type": "markdown",
   "metadata": {},
   "source": [
    "1.Половина пользователей тарифа smart чуть-чуть не вписывается в тарифные 15 Гбайт и доплачивают.Половина пользователей ultra используют почти 20 Гбайт.\n",
    "2.Для 99% пользователей тарифа smart достаточно 30 ГБ. Для  99% пользователей ultra - 40.\n",
    "3.Оба распределения похожи на нормальные с одним пиком в среднем.smart чуть скошено влево: среднее меньше медианы.\n"
   ]
  },
  {
   "cell_type": "markdown",
   "metadata": {},
   "source": [
    "<div class=\"alert alert-block alert-success\">\n",
    "<b>КОММЕНТАРИЙ РЕВЬЮВЕРА:</b> \n",
    "\n",
    "Хорошие выводы, мы видим, что оба тарифа выходят за рамки, но для Смарта это опять же более характерная черта и они превышают лимиты существенно сильно.\n",
    "   \n",
    "Если мы сравним среднее и медиану по тарифам, то заметим, что по Смарту среднее меньше медианы, но не сильно, что дает небольшой левый скос распределения и означает большую частотность у высоких значений гб (но опять же там отклонение совсем небольшое). По Ультре обратная ситуация, среднее больше медианы и распределение имеет скос справа, что дает нам показания о том, что побольше клиентов сгруппировано у небольшого числа гб.\n",
    "\n",
    "</div>"
   ]
  },
  {
   "cell_type": "markdown",
   "metadata": {},
   "source": [
    "# Количество сообщений"
   ]
  },
  {
   "cell_type": "code",
   "execution_count": null,
   "metadata": {},
   "outputs": [],
   "source": [
    "# описательная статистика\n",
    "messages_desc = billing.groupby(billing.tariff).messages_count.describe(percentiles = [.01, .25, .75, .99])\n",
    "messages_desc"
   ]
  },
  {
   "cell_type": "code",
   "execution_count": null,
   "metadata": {},
   "outputs": [],
   "source": [
    "# отрисовываем использование смс \n",
    "_, ax = plt.subplots(ncols = 1, nrows = 2, figsize = (20, 6), gridspec_kw = dict(hspace = 0.4))\n",
    "for i, t in tariff_iterator.iterrows():\n",
    "    plot_feature_histogram('messages_count', 'количество сообщений', 'сообщений', t.messages_included,\n",
    "                           messages_desc, ax[i], t.tariff_name,bins=50)"
   ]
  },
  {
   "cell_type": "markdown",
   "metadata": {},
   "source": [
    "# Вывод по количеству потребляемых сообщений\n"
   ]
  },
  {
   "cell_type": "markdown",
   "metadata": {},
   "source": [
    "1.Больше половины пользователей тарифа smart вписывается в тарифные 50 сообщений и ничего не доплачивают.Все пользователи тарифа ultra вписываются в тарифные 1000 бесплатных сообщений, точнее используют 224 сообщения ежемесячно.\n",
    "2.49% пользователей тарифа smart доплачивают за перерасход смс сообщений - тратят 108 сообщений ежемесячно.\n",
    "3.Есть большое количество пользователей-25%, которые вообще не пользуются смс сообщениями в обоих тарифах. \n",
    "4.Оба распределения не похожи на нормальные, есть  пик в районе 0, оба скошены вправо, медиана заметно сдвинута относительно  среднего. Распределения похожи на распределение Пуассона."
   ]
  },
  {
   "cell_type": "code",
   "execution_count": null,
   "metadata": {},
   "outputs": [],
   "source": [
    "# данные о выручке по пользователям для каждого тарифа\n",
    "fig = px.bar(billing.groupby('tariff').fare.mean().reset_index(), x='tariff', y='fare', title=\"Средняя выручка по пользователям каждого тарифа\")\n",
    "fig.show()"
   ]
  },
  {
   "cell_type": "markdown",
   "metadata": {},
   "source": [
    "Исходя из графика видно, что в среднем, большая выручка поступает от тарифа Ультра, размер выручки ultra првышает тариф smart на 60%."
   ]
  },
  {
   "cell_type": "code",
   "execution_count": null,
   "metadata": {},
   "outputs": [],
   "source": [
    "fig = px.line(billing.groupby(['month','tariff']).fare.mean().reset_index(), x='month', y='fare', color='tariff', title=\"Средняя выручка по месяцам\")\n",
    "fig.show()"
   ]
  },
  {
   "cell_type": "markdown",
   "metadata": {},
   "source": [
    "На графике видна кардинальная разница в выручке между тарифами, а также показан ее рост в зависимости от месяцев.\n",
    "Средняя выручка тарифа ultra в январе составила порядка 1950 руб против 721 тарифа smart. За 11 мес ситуация изменилась - выручка тарифа ultra показал умеренный рост и составиоа 2137 руб в ноябре против 1572 руб тарифа smart. Таким образом выручка по smart выросла в 3 раза, но все-равно осталась ниже, чем по тарифу ultra."
   ]
  },
  {
   "cell_type": "code",
   "execution_count": null,
   "metadata": {},
   "outputs": [],
   "source": [
    "fig = px.bar(billing.groupby(['user_id','tariff']).fare.mean().reset_index(), x='user_id', y='fare', color='tariff', title=\"Средняя выручка на 1 абонента\")\n",
    "fig.show()"
   ]
  },
  {
   "cell_type": "markdown",
   "metadata": {},
   "source": [
    "Как видно на графике минимальная средняя выручка абонента, находящегося на тарифе smart 550 руб    ultra 1950 руб., максимальная выручка smart 4 333 руб(единичный случай), а тарифа ultra - 3 262 руб. В среднем же по одному абоненту выручка составляет (по медиане) ультра - 1950 руб, смарт 1150 руб."
   ]
  },
  {
   "cell_type": "code",
   "execution_count": null,
   "metadata": {},
   "outputs": [],
   "source": [
    "billing.groupby(['user_id', 'tariff'])['fare'].describe()"
   ]
  },
  {
   "cell_type": "markdown",
   "metadata": {},
   "source": [
    "При подсчете общей средней выручки по тарифам получается, что в среднем ежемесячно тариф smart приносит 1294 руб., а ultra 2070 руб., что на  60% меньше ультра.\n",
    "Минимальная средняя выручка на тарифе smart составила 550 руб., а на ультра 1950, что в 3,5 раза меньше. За 11 мес выручка тарифа смарт выросла до 1572, но все-равно осталась ниже ультры (2137 руб).\n",
    "Средняя выручка по каждому абоненту: минимальная средняя выручка абонента, находящегося на тарифе smart 550 руб ultra 1950 руб., максимальная выручка smart 4 333 руб, а тарифа ultra - 3 262 руб.\n",
    "Из анализа видно, что тариф Ultra выгоднее именно его будем рекомендовать Мегалайну."
   ]
  },
  {
   "cell_type": "markdown",
   "metadata": {},
   "source": [
    "## Общий вывод по выручке"
   ]
  },
  {
   "cell_type": "markdown",
   "metadata": {},
   "source": [
    "Анализ выручки в разрезе тарифов, месяцев и абонентов показал, что наиболее выгодным является тариф ultra - его среднемесячная выручка 2070 руб, против 1294 руб на тарифе smart,что на 60 % меньше ultra.\n"
   ]
  },
  {
   "cell_type": "markdown",
   "metadata": {},
   "source": [
    "<div class=\"alert alert-block alert-success\">\n",
    "<b>КОММЕНТАРИЙ РЕВЬЮВЕРА:</b> \n",
    "\n",
    "Хорошие выводы, эпоха мессенджеров, что сказать:)\n",
    "\n",
    "</div>"
   ]
  },
  {
   "cell_type": "markdown",
   "metadata": {},
   "source": [
    "<div class=\"alert alert-block alert-danger\">\n",
    "<b>КОММЕНТАРИЙ РЕВЬЮВЕРА:</b> \n",
    "\n",
    "Мне очень понравилась твоя реализация, все так понятно и лаконично, молодец! Однако пожалуйста проанализируй выручку, посмотри какой тариф суммарно приносит больше, а в среднем\\медиане по месяцам (возможно подойдет двойной линейный график с месяцами по Х и медианой\\средним по выручке по У, цвета линий по тарифам), сколько выручки приходится на 1 клиента тарифа?\n",
    "\n",
    "    \n",
    "В результате в этой части выдели наиболее выгодный тариф для продвижения, который мы предложим Мегалайну.\n",
    "</div>\n",
    "<div class=\"alert alert-block alert-success\">\n",
    "<b>КОММЕНТАРИЙ РЕВЬЮВЕРА:</b> \n",
    "   \n",
    "Так, возможно тебе понадобится линейный график или barcharts, плюс ящик с усами я давал тебе ранее:\n",
    "    \n",
    "Lineplot\n",
    "    \n",
    "https://plotly.com/python/line-charts/\n",
    "    \n",
    "Barcharts\n",
    "    \n",
    "https://plotly.com/python/bar-charts/\n",
    "\n",
    "</div>"
   ]
  },
  {
   "cell_type": "markdown",
   "metadata": {},
   "source": [
    "# шаг 4 Проверка гипотез"
   ]
  },
  {
   "cell_type": "markdown",
   "metadata": {},
   "source": [
    "- 1.Средняя выручка пользователей тарифов smart и  ultra различаются\n",
    "- 2.Средняя выручка пользователей из Москвы отличается от выручки пользователей других регионов"
   ]
  },
  {
   "cell_type": "markdown",
   "metadata": {},
   "source": [
    "Пусть:\n",
    "U, S множество пользователей тарифов Смарт и Ультра\n",
    "Х - множество всех количественных признаков \"месячная выручка\"\n",
    "Mu и  Mx - среднее Х для соответствующих множеств пользователей.\n",
    "\n",
    "Чтобы проверить, что в среднем выручка тарифов смарт и ультра отличаются, будем проверять гипотезу о равенстве средних для двух нормально распределенных генеральных совокупностей. Тогда начальная гипотеза формулируется так: Но: Mu = Ms, а H1 Mu != Ms. Такие гипотезы проверяются при помощи ttest. В этом случае критерий будет основан на уровне значимости . Если уровень значимости P_value < a = 0.05, то мы отвергаем нулевую гипотезу, иначе - принимаем.\n",
    "Нулевая гипотеза: Hо = средняя выручка пользователей тарифов smart и  ultra одинаковые. "
   ]
  },
  {
   "cell_type": "code",
   "execution_count": null,
   "metadata": {},
   "outputs": [],
   "source": [
    "# сначала посмотрим на выборки\n",
    "fares = billing.groupby('tariff').fare\n",
    "fares.describe()"
   ]
  },
  {
   "cell_type": "code",
   "execution_count": null,
   "metadata": {},
   "outputs": [],
   "source": [
    "sample_1 = billing.query('tariff == \"smart\"')['fare']"
   ]
  },
  {
   "cell_type": "code",
   "execution_count": null,
   "metadata": {},
   "outputs": [],
   "source": [
    "sample_1"
   ]
  },
  {
   "cell_type": "code",
   "execution_count": null,
   "metadata": {},
   "outputs": [],
   "source": [
    "sample_2 = billing.query('tariff == \"ultra\"').fare\n"
   ]
  },
  {
   "cell_type": "code",
   "execution_count": null,
   "metadata": {},
   "outputs": [],
   "source": [
    "sample_2"
   ]
  },
  {
   "cell_type": "code",
   "execution_count": null,
   "metadata": {},
   "outputs": [],
   "source": [
    "# equal_var == False  т.к. у нас есть основания предполагать, что выборки различаются\n",
    "alpha = 0.05\n",
    "stat, p_val = scipy.stats.ttest_ind(\n",
    "    sample_1.values,\n",
    "    sample_2.values,\n",
    "    equal_var = False)\n",
    "print(\"Уровень значимости:\", p_val)\n",
    "if (p_val < alpha):\n",
    "    print('Отвергаем нулевую гипотезу')\n",
    "else:\n",
    "    print('Не получилось отвергнуть нулевую гипотезу')"
   ]
  },
  {
   "cell_type": "markdown",
   "metadata": {},
   "source": [
    " - Вывод"
   ]
  },
  {
   "cell_type": "markdown",
   "metadata": {},
   "source": [
    "Нулевая гипотеза: Hо = средняя выручка пользователей тарифов smart и  ultra одинаковые. \n",
    "Вывод: Уровень значимости p_val << a => Hо отвергаем. Т.е. мы можем сказать, что предположение о неравенстве средней выручки пользователей тарифов smart и  ultra скорее всего верно."
   ]
  },
  {
   "cell_type": "markdown",
   "metadata": {},
   "source": [
    "<div class=\"alert alert-block alert-danger\">\n",
    "<b>КОММЕНТАРИЙ РЕВЬЮВЕРА:</b> \n",
    "\n",
    "1. Гипотезы сформулированы неверно. Нулевая гипотеза говорит, что все одинаково и различий нет, альтернативная говорит (Н1) говорит, что различия есть. Если p-value < alpha то Но отвергаем, если больше, то Но не отвергаем.\n",
    "\n",
    "2. Помимо этого у нас нет необходимости считать среднее и тп, достаточно просто сформировать две выборки, одну с выручкой по ультре, другой с выручкой по Смарту, для этого необходимо просто сделать срез по основному датафрейму и все\n",
    "    \n",
    "</div>\n",
    "<div class=\"alert alert-block alert-success\">\n",
    "<b>КОММЕНТАРИЙ РЕВЬЮВЕРА:</b> \n",
    "   \n",
    "Если ты добавишь такую проверку условия, то это упростит  тебе жизнь:)\n",
    "    \n",
    "    if results.pvalue < alpha:\n",
    "        print('Отвергаем нулевую гипотезу')\n",
    "    else:\n",
    "        print('Не получилось отвергнуть нулевую гипотезу')\n",
    "    \n",
    "</div>\n",
    "<div class=\"alert alert-block alert-success\">\n",
    "<b>КОММЕНТАРИЙ ОТ НАСТАВНИКА:</b> \n",
    "    \n",
    "<b>Информационная сводка)</b>\n",
    "    \n",
    "Для того, чтобы воспользоваться критерием Стьюдента, нужно чтобы данные отвечали следующим требованиям:\n",
    "1. Необходимо, чтобы данные имели нормальное распределение, но только при небольшом количестве наблюдений (n < 30). При бОльшем же количестве наблюдений распределение асимптотически имеет стандартное нормальное распределение.\n",
    "2. При условии использования двухвыборочного критерия для независимых выборок необходимо соблюдение условия равенства дисперсий (гомогенность).\n",
    "                                                                                                                   \n",
    "Чтобы проверить нормальность распределений можно использовать например критерий <a href=\"https://docs.scipy.org/doc/scipy/reference/generated/scipy.stats.shapiro.html\">Шапиро-Уилка</a>, или <a href=\"https://plotly.com/python/v3/normality-test/\">QQ-plot</a>. Для проверки дисперсий можно использовать критерий <a href = \"https://docs.scipy.org/doc/scipy/reference/generated/scipy.stats.fisher_exact.html\"> Фишера</a>, в соответствии с этим мы корректируем параметр equal_var.\n",
    "                                                                                                                   \n",
    "Ну а вообще мы можем воспользоваться непараметрическим критерием <a href = \"https://docs.scipy.org/doc/scipy/reference/generated/scipy.stats.mannwhitneyu.html\"> Манна-Уитни</a>.                                                                                                                   \n",
    "</div>"
   ]
  },
  {
   "cell_type": "markdown",
   "metadata": {},
   "source": [
    "## Сравнение средней выручки по регионам РФ"
   ]
  },
  {
   "cell_type": "markdown",
   "metadata": {},
   "source": [
    "Делаем аналогично сравнению по тарифам, но начальная гипотеза Hо формулируется как \"Средняя выручка у разных групп по регионам одинаковая\", а H1, соответственно - \"Средняя выручка разная\"."
   ]
  },
  {
   "cell_type": "markdown",
   "metadata": {},
   "source": [
    "<div class=\"alert alert-block alert-success\">\n",
    "<b>КОММЕНТАРИЙ РЕВЬЮВЕРА:</b> \n",
    "\n",
    "Вот тут гипотезы сформулированы верно, нулевая — различий нет, альтернативная — различия есть.\n",
    "\n",
    "P.S. Вообще было бы круто, если бы ты объясняла почему гипотезы сформулированы именно так, какого они вида, какой способ проверки используется и почему\n",
    "\n",
    "</div>"
   ]
  },
  {
   "cell_type": "code",
   "execution_count": null,
   "metadata": {},
   "outputs": [],
   "source": [
    "# сначала посмотрим на выборки\n",
    "fares = billing.groupby(billing.city == 'Москва').fare\n",
    "fares.describe()"
   ]
  },
  {
   "cell_type": "code",
   "execution_count": null,
   "metadata": {},
   "outputs": [],
   "source": [
    "sample_mosc = billing.query('city == \"Москва\"')['fare']\n",
    "sample_mosc"
   ]
  },
  {
   "cell_type": "code",
   "execution_count": null,
   "metadata": {},
   "outputs": [],
   "source": [
    "sample_reg = billing.query('city != \"Москва\"')['fare']\n",
    "sample_reg"
   ]
  },
  {
   "cell_type": "markdown",
   "metadata": {},
   "source": [
    "<div class=\"alert alert-block alert-warning\">\n",
    "<b>КОММЕНТАРИЙ РЕВЬЮВЕРА:</b> \n",
    "\n",
    "Аналогичный момент, нам достаточно сформировать две выборки, с выручкой по Москве и другую по остальным городам, и все)\n",
    "</div>"
   ]
  },
  {
   "cell_type": "code",
   "execution_count": null,
   "metadata": {},
   "outputs": [],
   "source": [
    "# equal_var == True  т.к. выборки похожи\n",
    "alpha = 0.05\n",
    "stat, p_val = scipy.stats.ttest_ind(\n",
    "    sample_mosc.values,\n",
    "    sample_reg.values,\n",
    "    equal_var = True)\n",
    "print(\"Уровень значимости:\", p_val)\n",
    "if (p_val < alpha):\n",
    "    print('Отвергаем нулевую гипотезу')\n",
    "else:\n",
    "    print('Не получилось отвергнуть нулевую гипотезу')"
   ]
  },
  {
   "cell_type": "markdown",
   "metadata": {},
   "source": [
    "- Вывод"
   ]
  },
  {
   "cell_type": "markdown",
   "metadata": {},
   "source": [
    "Уровень значимости p_val>> a следовательно, можем сделать предположение о том, что \"Средняя выручка у разных групп по регионам одинаковая\". Т.е. мы можем сказать,что наблюдаемые значения не противоречат Hо о равенстве средних,тк полученное значение больше нашего порога альфа.То есть можно сделать вывод, что различия в выручке по Москве и регионам конечно могут быть, но с вероятностью 47% получить их можно абсолютно случайно и это слишком высокая вероятность, чтобы отвергать Но, делаем вывод, что выручка схожа, а различия, если и имеются, они статистически незначимы. Следовательно, предположение об отличающейся средней выручкой между Москвой и регионами,скорее всего верно. "
   ]
  },
  {
   "cell_type": "markdown",
   "metadata": {},
   "source": [
    "<div class=\"alert alert-block alert-warning\">\n",
    "<b>КОММЕНТАРИЙ РЕВЬЮВЕРА:</b> \n",
    "\n",
    "`Наблюдаемые значенияне противоречат Hо о равенстве средних` Может наоборот не противоречат?)\n",
    "\n",
    "Помимо этого мы ничего не принимаем и не подтверждаем, поэтому не стоит так писать `Hо принимаем.`\n",
    "\n",
    "Никакие экспериментально полученные данные никогда не подтвердят какую-либо гипотезу. Это наше фундаментальное ограничение. Данные могут лишь не противоречить ей или, наоборот, показывать крайне маловероятные результаты (при условии, что гипотеза верна). Но и в том, и в другом случае нет оснований утверждать, что выдвинутая гипотеза доказана.\n",
    "Допустим, данные гипотезе не противоречат, тогда мы её не отвергаем. Если же мы приходим к выводу, что получить такие данные в рамках этой гипотезы вряд ли возможно, у нас появляется основание отбросить эту гипотезу.\n",
    "    \n",
    "В тетсте выше мы получили с тобой p-значение = 0.47, что дает нам основание не отвергать Но,тк полученное значение больше нашего порога альфа. Иными словами можно сделать вывод, что различия в выручке по Москве и регионам конечно могут быть, но с вероятностью 47% получить их можно абсолютно случайно и это слишком высокая вероятность, чтобы отвергать Но, делаем вывод, что выручка схожа, а различия, если и имеются, стат истически незначимы.\n",
    "</div>\n"
   ]
  },
  {
   "cell_type": "markdown",
   "metadata": {},
   "source": [
    "## 5 Общий вывод"
   ]
  },
  {
   "cell_type": "markdown",
   "metadata": {},
   "source": [
    "Тариф smart составлен чрезвычайно удачно. При том. что половина пользователей не превышают квоту по звонкам,а половина квоту по тарифам, все равно 50% пользователей ежемесячно платит на 400 руб больше тарифа.\n",
    "\n",
    "Однако, при анализе выручки тариф Ultra приносит гораздо больше выручки как по месяцам так и по каждому отдельно взятому абоненту. Именно этот тариф следует рекомендовать Мегалайну. Так, среднемесячная выручка по тарифу Ультра составляет 2070 руб, по тарифу Смарт 1294 руб.\n",
    "\n",
    "Кроме этого в данных есть интересные моменты:\n",
    "\n",
    "1.Если в тарифе есть ограничение, пользователи вовсе не пытаются его выбрать (средние 400 минут при 500 бесплатных в тарифе smart, средние 20 Гб при 30 Гб в тарифе). При этом 50% пользователей превышают 15 Гб трафика в тарифе smart. Т.е. можно предположить, что у пользователей существует характерная модель поведения в отношении потребления. которая не зависит от выбранного тарифа,причем в обе стороны(не расходует ресурсов меньше, если это приведет к дополнительным тратам, и не расходует ресурсов больше,если это приведет к доп.тратам). Следовательно, переходы на более полные тарифы для имеющихся пользователей оператору ничего не стоят.\n",
    "\n",
    "2.В среднем пользователи тратят на smart немного больше трафика, чем предусмотрено тарифом.Это хорошая точка роста - продавать тариф ultra пользователям, превышающим 15 ГБ трафика и со средним чеком < 1950 руб.\n",
    "\n",
    "Для компании Мегалайн выгоднее продавать тариф Ультра."
   ]
  },
  {
   "cell_type": "markdown",
   "metadata": {},
   "source": [
    "<div class=\"alert alert-block alert-warning\">\n",
    "<b>КОММЕНТАРИЙ РЕВЬЮВЕРА:</b> \n",
    "\n",
    "На самом деле не со всем могу согласиться, на мой взгляд выгоднее Ультра, к тому же в конце ты сама хорошо пришла к рекомендации этого тарифа для пользователей Смарта, которые выходят за лимиты (многим может надоедать постоянно переплачивать за доп пакеты и нервничать, гораздо положительнее на лояльности клиента скажется предложение перейти на более выгодный тариф, где он за ту же сумму (с учетом переплат) получит больший спектр услуг)\n",
    "    \n",
    "P.S. но давай не будем спорить и нас рассудит твой анализ выручки:) \n",
    "</div>"
   ]
  },
  {
   "cell_type": "markdown",
   "metadata": {},
   "source": [
    "### **Чек-лист по заданиям**\n",
    "\n",
    "- [x]  Открыты все файлы\n",
    "- [x]  Файлы изучены (выведены первые строки, метод info())\n",
    "- [x]  Данные приведены к нужным типам\n",
    "- [X]  Выполнена предобработка данных\n",
    "\n",
    "<b>В изначальном датафрейме интернета проведи округление мегабайтов</b>\n",
    "\n",
    "*Посчитано:*\n",
    "\n",
    "- [X ]  Количество сделанных звонков и израсходованных минут разговора по месяцам\n",
    "- [X]  Количество отправленных сообщений по месяцам\n",
    "- [X]  Объем израсходованного интернет-трафика по месяцам\n",
    "- [X]  Помесячная выручка с каждого пользователя (вычтите бесплатный лимит из суммарного количества звонков, сообщений и интернет-трафика; остаток умножьте на значение из тарифного плана)\n",
    "\n",
    "<b>Подправь подсчет выручки. Плюс переведи выручки и объемы услуг в тип int</b>\n",
    "- [ ]  Найдены и удалены выбросы\n",
    "\n",
    "<b>Поработай с выбросами</b>\n",
    "- [x]  Посчитано среднее количество, дисперсия и стандартное отклонение\n",
    "- [x]  Есть ответ на вопрос \"Сколько минут разговора, сколько сообщений и какой объём интернет-трафика требуется пользователям каждого тарифа в месяц?\"\n",
    "- [x]  Построены и описаны гистограммы\n",
    "\n",
    "<b>Проанализируй выручку пожалуйста</b>\n",
    "- [x]  Проверена гипотеза \"Средняя выручка пользователей тарифов «Ультра» и «Смарт» различаются\"\n",
    "\n",
    "<b>Сформулируй правильно Но и Н1, плюс в обоих тестах достаточно просто сделать срез по датафрейму и сформировать выборки, а далее их закинуть в ttest_ind</b>\n",
    "- [x]  Проверена гипотеза \"Средняя выручка пользователи из Москвы отличается от выручки пользователей из других регионов\"\n",
    "\n",
    "<b>Подкорректируй вывод</b>\n",
    "- [x]  Есть пояснения к проверке гипотез \"Как вы формулировали нулевую и альтернативную гипотезы\"\n",
    "- [x]  Есть пояснения к проверке гипотез \"Какой критерий использовали для проверки гипотез и почему\"\n",
    "\n",
    "<b>дай объяснения</b>\n",
    "- [x]  В каждом этапе есть выводы\n",
    "- [x]  Есть общий вывод <b>Возможно стоит подправить выводы:)</b>"
   ]
  },
  {
   "cell_type": "markdown",
   "metadata": {},
   "source": [
    "<div class=\"alert alert-block alert-warning\">\n",
    "<b>КОММЕНТАРИЙ РЕВЬЮВЕРА:</b> \n",
    "\n",
    "Катерина, мне очень даже понравился твой проект, однако есть несколько моментов на доработку, очень жду!)\n",
    "</div>"
   ]
  }
 ],
 "metadata": {
  "kernelspec": {
   "display_name": "Python 3",
   "language": "python",
   "name": "python3"
  },
  "language_info": {
   "codemirror_mode": {
    "name": "ipython",
    "version": 3
   },
   "file_extension": ".py",
   "mimetype": "text/x-python",
   "name": "python",
   "nbconvert_exporter": "python",
   "pygments_lexer": "ipython3",
   "version": "3.8.5"
  }
 },
 "nbformat": 4,
 "nbformat_minor": 2
}
